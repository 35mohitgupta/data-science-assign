{
 "cells": [
  {
   "cell_type": "code",
   "execution_count": null,
   "id": "20c98dc0",
   "metadata": {},
   "outputs": [],
   "source": [
    "# ​ W. A P. which takes one number ​ from​ ​ 0 ​ to ​ 9 ​ ​ from​ the user ​ and​ prints\n",
    "# it ​ in​ the word. And ​ if​ the word ​ is​ ​ not​ ​ from​ ​ 0 ​ to ​ 9 ​ then\n",
    "# it should print that number ​ is​ outside of the range ​ and​ program should\n",
    "# exit.\n",
    "# For exapmple:-\n",
    "# input = ​ 1\n",
    "# output = one\n",
    "\n",
    "inp = int(input())\n",
    "# res = ''\n",
    "# if inp == 0:\n",
    "#     res = 'Zero'\n",
    "# elif inp == 1:\n",
    "#     res = 'One'\n",
    "# elif inp == 2:\n",
    "#     res = 'Two'\n",
    "# elif inp == 3:\n",
    "#     res = 'Three'\n",
    "# elif inp == 4:\n",
    "#     res = 'Four'\n",
    "# elif inp == 5:\n",
    "#     res = 'Five'\n",
    "# elif inp == 6:\n",
    "#     res = 'Six'\n",
    "# elif inp == 7:\n",
    "#     res = 'Seven'\n",
    "# elif inp == 8:\n",
    "#     res = 'Eight'\n",
    "# elif inp == 9:\n",
    "#     res = 'Nine'\n",
    "# else:\n",
    "#     res = 'number is outside of the range'\n",
    "\n",
    "no_word_map = {0:'Zero', 1: 'One', 2: 'Two',\n",
    "              3: 'Three', 4: 'Four', 5: 'Five',\n",
    "              6: 'Six', 7: 'Seven', 8: 'Eight',\n",
    "              9: 'Nine'}\n",
    "\n",
    "if inp in no_word_map:\n",
    "    res = no_word_map[inp]\n",
    "else:\n",
    "    res = 'number is outside of the range'\n",
    "    \n",
    "print(res)    \n"
   ]
  },
  {
   "cell_type": "code",
   "execution_count": null,
   "id": "65a8cd13",
   "metadata": {},
   "outputs": [],
   "source": [
    "# W. A P. to implement calculator but the operation to be done ​ and​ two\n",
    "# numbers will be taken ​ as​ input ​ from​ user:\n",
    "\n",
    "while True:\n",
    "\n",
    "    op = input('''Please select any one operation ​ from​ below:-\n",
    "    * To add enter ​ 1\n",
    "    * to subtract enter ​ 2\n",
    "    * To multiply enter 3\n",
    "    * To divide enter ​ 4\n",
    "    * To divide ​ and​ find quotient enter ​ 5\n",
    "    * To divide ​ and​ find remainder enter ​ 6\n",
    "    * To divide ​ and​ find num1 to the power of num2 enter ​ 7\n",
    "    * To Come out of the program enter ​ 8\\n''')\n",
    "\n",
    "    if op == '8':\n",
    "        break\n",
    "    num1 = eval(input('enter num1: '))\n",
    "    num2 = eval(input('enter num2: '))\n",
    "    operation = {'1': 'num1 + num2', '2': 'num1 - num2', '3': 'num1 * num2', '4': 'num1 / num2',\n",
    "                '5': 'num1 // num2', '6': 'num1 % num2', '7': 'num1 ** num2'}\n",
    "    print(eval(operation[op]))\n"
   ]
  },
  {
   "cell_type": "code",
   "execution_count": 5,
   "id": "a812af94",
   "metadata": {},
   "outputs": [
    {
     "name": "stdout",
     "output_type": "stream",
     "text": [
      "234247\n",
      "234247 is not leap year\n"
     ]
    }
   ],
   "source": [
    "# ​ W A P to check whether a year entered by user ​ is​ an leap year ​ or​ ​ not​ ?\n",
    "# Check ​ with​ below input\n",
    "\n",
    "year = int(input())\n",
    "\n",
    "if year % 100 == 0:\n",
    "    if year % 400 == 0:\n",
    "        print(f'{year} is leap year')\n",
    "    else:\n",
    "        print(f'{year} is not a leap year')\n",
    "elif year % 4 == 0:\n",
    "    print(f'{year} is leap year')\n",
    "else:\n",
    "    print(f'{year} is not leap year')"
   ]
  },
  {
   "cell_type": "code",
   "execution_count": 7,
   "id": "3ec7a078",
   "metadata": {},
   "outputs": [
    {
     "name": "stdout",
     "output_type": "stream",
     "text": [
      "5\n",
      "5 is odd\n"
     ]
    }
   ],
   "source": [
    "# ​ W A P which takes one number ​ from​ the user ​ and​ checks whether it ​ is\n",
    "# an even ​ or​ odd number?, If it even then prints number ​ is\n",
    "# even number ​ else​ prints that number ​ is​ odd number.\n",
    "\n",
    "no = int(input())\n",
    "if no & 1:\n",
    "    print(f'{no} is odd')\n",
    "else:\n",
    "    print(f'{no} is even')"
   ]
  },
  {
   "cell_type": "code",
   "execution_count": 4,
   "id": "af24a770",
   "metadata": {},
   "outputs": [
    {
     "name": "stdout",
     "output_type": "stream",
     "text": [
      "4\n",
      "2\n",
      "4 is greater than 2\n",
      "4 is greater than 2\n"
     ]
    }
   ],
   "source": [
    "# W A P which takes two numbers f\n",
    "# rom​ the user ​ and​ prints below output:-\n",
    "# 1 ​ . num1 ​ is​ greater than num2 ​ if​ num1 ​ is​ greater than num2\n",
    "# 2 ​ . num1 ​ is​ smaller than num2 ​ if​ num1 ​ is​ smaller than num2\n",
    "# 3 ​ . num1 i\n",
    "# s​ equal to num2 ​ if​ num1 ​ and​ num2 are equal\n",
    "\n",
    "\n",
    "num1 = int(input())\n",
    "num2 = int(input())\n",
    "\n",
    "if num1 < num2:\n",
    "    print(f'{num1} is smaller than {num2}')\n",
    "elif num1 > num2:\n",
    "    print(f'{num1} is greater than {num2}')\n",
    "else:\n",
    "    print(f'{num1} is equal to {num2}')\n",
    "    \n",
    "#using ternary operator\n",
    "print(f'{num1} is smaller than {num2}') if num1 < num2 else print(f'{num1} is greater than {num2}') if num1 > num2 else print(f'{num1} is equal to {num2}')"
   ]
  },
  {
   "cell_type": "code",
   "execution_count": 16,
   "id": "0c43bbc3",
   "metadata": {},
   "outputs": [
    {
     "name": "stdout",
     "output_type": "stream",
     "text": [
      "4\n",
      "5\n",
      "3\n",
      "5 is greater than 4 and 3\n",
      "5 is greater than 4 and 3\n"
     ]
    }
   ],
   "source": [
    "# W A P which takes three numbers ​ from​ the user ​ and​ prints below\n",
    "# output:-\n",
    "# 1 ​ . num1 ​ is​ greater than num2 ​ and​ num3 ​ if​ num1 ​ is​ greater than num2\n",
    "# and​ num3\n",
    "# 2 ​ . num2 ​ is​ greater than num1 ​ and​ num3 ​ if​ num2 ​ is​ greater than num1\n",
    "# and​ num3\n",
    "# 3 ​ . num3 ​ is​ greater than num1 ​ and​ num2 ​ if​ num3 ​ is​ greater than num1\n",
    "# and​ num2\n",
    "# Note:- ​ 1 ​ . Do this problem using ​ if​ - ​ elif​ - ​ else\n",
    "# 2 ​ . Do this using ternary operator\n",
    "\n",
    "num1 = int(input())\n",
    "num2 = int(input())\n",
    "num3 = int(input())\n",
    "# Assuming every input will be different\n",
    "if num1 > num2 and num1 > num3:\n",
    "    print(f'{num1} is greater than {num2} and {num3}')\n",
    "elif num2 > num1 and num2 > num3:\n",
    "    print(f'{num2} is greater than {num1} and {num3}')\n",
    "else:\n",
    "    print(f'{num3} is greater than {num1} and {num2}')\n",
    "\n",
    "# using ternary operator\n",
    "res = f'{num1} is greater than {num2} and {num3}' if num1 > num2 and num1 > num3 else f'{num2} is greater than {num1} and {num3}' if num2>num3 and num2>num1 else f'{num3} is greater than {num1} and {num2}'\n",
    "print(res)"
   ]
  },
  {
   "cell_type": "code",
   "execution_count": 29,
   "id": "5a9d3057",
   "metadata": {},
   "outputs": [
    {
     "name": "stdout",
     "output_type": "stream",
     "text": [
      "55\n"
     ]
    }
   ],
   "source": [
    "# ​ Write a Python program to find the length of the my_str using loop:-\n",
    "    # Input:- ​ 'Write a Python program to find the length of the my_str'\n",
    "# Output:- ​ 55\n",
    "\n",
    "\n",
    "inp = 'Write a Python program to find the length of the my_str'\n",
    "count = 0\n",
    "for i in inp:\n",
    "    count+=1\n",
    "print(count)"
   ]
  },
  {
   "cell_type": "code",
   "execution_count": 30,
   "id": "0de075af",
   "metadata": {},
   "outputs": [
    {
     "name": "stdout",
     "output_type": "stream",
     "text": [
      "9\n"
     ]
    }
   ],
   "source": [
    "# ​ Write a Python program to find the total number of times letter ​ 'p'\n",
    "# is​ appeared ​ in​ the below string using loop:-\n",
    "# Input:- ​ 'peter piper picked a peck of pickled peppers.\\n'\n",
    "# Output:- ​ 9\n",
    "\n",
    "inp = 'peter piper picked a peck of pickled peppers.\\n'\n",
    "count = 0\n",
    "for i in inp:\n",
    "    if i == 'p':\n",
    "        count += 1\n",
    "print(count)"
   ]
  },
  {
   "cell_type": "code",
   "execution_count": 31,
   "id": "c97d4c6b",
   "metadata": {},
   "outputs": [
    {
     "name": "stdout",
     "output_type": "stream",
     "text": [
      "0\n",
      "6\n",
      "8\n",
      "12\n",
      "21\n",
      "29\n",
      "37\n",
      "39\n",
      "40\n"
     ]
    }
   ],
   "source": [
    "# Write a Python Program, to print all the indexes of all occurences of\n",
    "# letter ​ 'p'​ appeared ​ in​ the string using loop:-\n",
    "# Input:- ​ 'peter piper picked a peck of pickled peppers.'\n",
    "# Output:-\n",
    "# 0\n",
    "# 6\n",
    "# 8\n",
    "# 12\n",
    "# 21\n",
    "# 29\n",
    "# 37\n",
    "# 39\n",
    "# 40\n",
    "\n",
    "inp = 'peter piper picked a peck of pickled peppers.\\n'\n",
    "count = 0\n",
    "for i,j in enumerate(inp):\n",
    "    if j == 'p':\n",
    "        print(i)"
   ]
  },
  {
   "cell_type": "code",
   "execution_count": 32,
   "id": "db17e73f",
   "metadata": {},
   "outputs": [
    {
     "name": "stdout",
     "output_type": "stream",
     "text": [
      "['peter', 'piper', 'picked', 'a', 'peck', 'of', 'pickled', 'peppers']\n"
     ]
    }
   ],
   "source": [
    "# Write a python program to find below output using loop:-\n",
    "# Input:- ​ 'peter piper picked a peck of pickled peppers.'\n",
    "# Output:- [​ 'peter'​ , ​ 'piper'​ , ​ 'picked'​ , ​ 'a'​ , ​ 'peck'​ , ​ 'of'​ , ​ 'pickled'​ ,\n",
    "# 'peppers'​ ]\n",
    "\n",
    "inp = 'peter piper picked a peck of pickled peppers.'\n",
    "reslist = []\n",
    "temstr = ''\n",
    "\n",
    "for i in inp:\n",
    "    if i == ' ' or i == '.':\n",
    "        if temstr == '':\n",
    "            continue\n",
    "        else:\n",
    "            reslist.append(temstr)\n",
    "            temstr = ''\n",
    "    else:\n",
    "        temstr += i\n",
    "if temstr != '':\n",
    "    reslist.append(temstr)\n",
    "print(reslist)\n",
    "    "
   ]
  },
  {
   "cell_type": "code",
   "execution_count": 26,
   "id": "477d924d",
   "metadata": {},
   "outputs": [
    {
     "name": "stdout",
     "output_type": "stream",
     "text": [
      "peppers pickled of peck a picked piper peter\n"
     ]
    }
   ],
   "source": [
    "# ​ Write a python program to find below output using loop:-\n",
    "# Input:- ​ 'peter piper picked a peck of pickled peppers.'\n",
    "# Output:- ​ 'peppers pickled of peck a picked piper peter'\n",
    "    \n",
    "inp = 'peter piper picked a peck of pickled peppers.'\n",
    "reslist = []\n",
    "temstr = ''\n",
    "\n",
    "for i in inp:\n",
    "    if i == ' ' or i == '.':\n",
    "        if temstr == '':\n",
    "            continue\n",
    "        else:\n",
    "            reslist.append(temstr)\n",
    "            temstr = ''\n",
    "    else:\n",
    "        temstr += i\n",
    "reslist.reverse()\n",
    "res = \" \".join(reslist)\n",
    "print(res)"
   ]
  },
  {
   "cell_type": "code",
   "execution_count": 33,
   "id": "95e23d6c",
   "metadata": {},
   "outputs": [
    {
     "name": "stdout",
     "output_type": "stream",
     "text": [
      ".sreppep delkcip fo kcep a dekcip repip retep\n"
     ]
    }
   ],
   "source": [
    "# Q. ​ Write a python program to find below output using loop:-\n",
    "# Input:- ​ 'peter piper picked a peck of pickled peppers.'\n",
    "# Output:- ​ '.sreppep delkcip fo kcep a dekcip repip retep'\n",
    "\n",
    "inp = 'peter piper picked a peck of pickled peppers.'\n",
    "resstr = ''\n",
    "for i in inp:\n",
    "    resstr = i+resstr\n",
    "print(resstr)"
   ]
  },
  {
   "cell_type": "code",
   "execution_count": 34,
   "id": "703f511b",
   "metadata": {},
   "outputs": [
    {
     "name": "stdout",
     "output_type": "stream",
     "text": [
      "retep repip dekcip a kcep fo delkcip  sreppep\n"
     ]
    }
   ],
   "source": [
    "# Q. ​ Write a python program to find below output using loop:-\n",
    "# Input:- ​ 'peter piper picked a peck of pickled peppers.'\n",
    "# Output:- ​ 'retep repip dekcip a kcep fo delkcip sreppep'\n",
    "\n",
    "inp = 'peter piper picked a peck of pickled peppers.'\n",
    "# Output:- ​ 'retep repip dekcip a kcep fo delkcip sreppep'\n",
    "\n",
    "res = ''\n",
    "temstr = ''\n",
    "for i in inp:\n",
    "    if i == ' ':\n",
    "        res += temstr[::-1]+i\n",
    "        temstr = ''\n",
    "    elif i == '.':\n",
    "        pass\n",
    "    else:\n",
    "        temstr += i\n",
    "if temstr != '':\n",
    "    res = res + ' '+temstr[::-1]\n",
    "print(res)"
   ]
  },
  {
   "cell_type": "code",
   "execution_count": 35,
   "id": "fc6639c4",
   "metadata": {},
   "outputs": [
    {
     "name": "stdout",
     "output_type": "stream",
     "text": [
      "Peter Piper Picked A Peck Of Pickled Peppers.\n"
     ]
    }
   ],
   "source": [
    "# Q. ​ Write a python program to find below output using loop:-\n",
    "# Input:- ​ 'peter piper picked a peck of pickled peppers.'\n",
    "# Output:- ​ 'Peter Piper Picked A Peck Of Pickled Peppers'\n",
    "\n",
    "inp = 'peter piper picked a peck of pickled peppers.'\n",
    "res = ''\n",
    "prev = ' '\n",
    "for i in inp:\n",
    "    if prev == ' ' and i != ' ':\n",
    "        res += i.upper()\n",
    "    else:\n",
    "        res += i\n",
    "    prev = i\n",
    "print(res)"
   ]
  },
  {
   "cell_type": "code",
   "execution_count": null,
   "id": "45538398",
   "metadata": {},
   "outputs": [],
   "source": [
    "# Q. ​ Write a python program to find below output using loop:-\n",
    "# Input:- ​ 'Peter Piper Picked A Peck Of Pickled Peppers.'\n",
    "# Output:- ​ 'Peter piper picked a peck of pickled peppers'\n",
    "\n",
    "inp = 'Peter Piper Picked A Peck Of Pickled Peppers.'\n",
    "res = ''\n",
    "prev = ' '\n",
    "isfirstchar = True\n",
    "for i in inp:\n",
    "    if isfirstchar:\n",
    "        isfirstchar = False\n",
    "        res+=i.upper()\n",
    "    elif prev == ' ' and i != ' ':\n",
    "        res += i.lower()\n",
    "    else:\n",
    "        res += i\n",
    "    prev = i\n",
    "print(res)\n"
   ]
  },
  {
   "cell_type": "code",
   "execution_count": 36,
   "id": "0da085a9",
   "metadata": {},
   "outputs": [
    {
     "name": "stdout",
     "output_type": "stream",
     "text": [
      "Pickle is present at 29\n"
     ]
    }
   ],
   "source": [
    "# Q. ​ Write a python program to implement index method using loop. If\n",
    "# sub_str ​ is​ found ​ in​ my_str then it will print the index\n",
    "# of first occurrence of first character of matching string ​ in​ my_str:-\n",
    "# Input:- my_str = ​ 'Peter Piper Picked A Peck Of Pickled Peppers.'​ ,\n",
    "#     sub_str = ​ 'Pickl'\n",
    "# Output:- ​ 29\n",
    "\n",
    "\n",
    "my_str = 'Peter Piper Picked A Peck Of Pickled Peppers.'\n",
    "#         01234=> 5-2\n",
    "#          01\n",
    "sub_str = 'Pickle'\n",
    "indx = -1\n",
    "ln = len(sub_str)\n",
    "for i in range(len(my_str)-len(sub_str)+1):\n",
    "    if sub_str == my_str[i:i+ln]:\n",
    "        indx = i\n",
    "        break\n",
    "if indx == -1:\n",
    "    raise ValueError(f'{sub_str} not found in {my_str}')\n",
    "print(f'{sub_str} is present at {indx}')"
   ]
  },
  {
   "cell_type": "code",
   "execution_count": 37,
   "id": "44f4c785",
   "metadata": {},
   "outputs": [
    {
     "name": "stdout",
     "output_type": "stream",
     "text": [
      "Peter Piper Picked A Pack Of Pickled Peppers.\n"
     ]
    }
   ],
   "source": [
    "# Q. ​ Write a python program to implement replace method using loop. If\n",
    "# sub_str ​ is​ found ​ in​ my_str then it will replace the first\n",
    "# occurrence of sub_str ​ with​ new_str ​ else​ it will will print sub_str ​ not\n",
    "# found:-\n",
    "# Input:- my_str = ​ 'Peter Piper Picked A Peck Of Pickled Peppers.'​ ,\n",
    "# sub_str = ​ 'Peck'​ , new_str = ​ 'Pack'\n",
    "# Output:- ​ 'Peter Piper Picked A Pack Of Pickled Peppers.'\n",
    "\n",
    "my_str = 'Peter Piper Picked A Peck Of Pickled Peppers.'\n",
    "sub_str = 'Peck'\n",
    "new_str = 'Pack'\n",
    "\n",
    "ln = len(sub_str)\n",
    "# i=0\n",
    "for i in range(len(my_str)-len(sub_str)+1):\n",
    "    if my_str[i:i+ln] == sub_str:\n",
    "        my_str = my_str[:i]+new_str+my_str[i+ln:]\n",
    "\n",
    "print(my_str)\n",
    "\n"
   ]
  },
  {
   "cell_type": "code",
   "execution_count": null,
   "id": "0337153d",
   "metadata": {},
   "outputs": [],
   "source": [
    "# Q. ​ Write a python program to find below output (implements rjust ​ and\n",
    "# ljust) using loop:-\n",
    "# Input:- ​ 'Peter Piper Picked A Peck Of Pickled Peppers.'​ , sub_str =\n",
    "# 'Peck'​ ,\n",
    "# Output:- ​ '*********************Peck********************'\n",
    "\n",
    "inp = 'Peter Piper Picked A Peck Of Pickled Peppers.'\n",
    "sub_str = 'Peck'\n",
    "# inp = '123456789'\n",
    "# sub_str = '3'\n",
    "# Output:- ​ '*********************Peck********************'\n",
    "res = '*'\n",
    "indx = inp.find(sub_str)\n",
    "res *= (indx)\n",
    "res +=sub_str\n",
    "res = res + ('*'*(len(inp)-(indx+len(sub_str))))\n",
    "print(res)\n"
   ]
  },
  {
   "cell_type": "code",
   "execution_count": 38,
   "id": "816177c3",
   "metadata": {},
   "outputs": [
    {
     "name": "stdout",
     "output_type": "stream",
     "text": [
      "['This', ' is ', 'Python class']\n"
     ]
    }
   ],
   "source": [
    "# Q. ​ Write a python program to find below output using loop:-\n",
    "# Input:- ​ 'This is Python class'​ , sep = ​ ' is'​ ,\n",
    "# Output:- [​ 'This'​ , ​ 'is'​ , ​ 'Python class'​ ]\n",
    "\n",
    "inp = 'This is Python class'\n",
    "sep = ' is '\n",
    "# Output:- ['This',' is ','Python class']\n",
    "res = []\n",
    "# assuming we are going to split using sep = ' is ' and also including it in response\n",
    "\n",
    "while inp != '':\n",
    "    indx = inp.find(sep)\n",
    "    if indx == -1:\n",
    "        res.append(inp)\n",
    "        break;\n",
    "    res.append(inp[:indx])\n",
    "    res.append(sep)\n",
    "    inp = inp[indx+len(sep):]\n",
    "print(res)"
   ]
  }
 ],
 "metadata": {
  "kernelspec": {
   "display_name": "Python 3 (ipykernel)",
   "language": "python",
   "name": "python3"
  },
  "language_info": {
   "codemirror_mode": {
    "name": "ipython",
    "version": 3
   },
   "file_extension": ".py",
   "mimetype": "text/x-python",
   "name": "python",
   "nbconvert_exporter": "python",
   "pygments_lexer": "ipython3",
   "version": "3.9.12"
  }
 },
 "nbformat": 4,
 "nbformat_minor": 5
}
