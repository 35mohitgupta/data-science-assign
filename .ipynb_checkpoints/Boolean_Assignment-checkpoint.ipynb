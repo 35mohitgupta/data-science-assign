{
 "cells": [
  {
   "cell_type": "code",
   "execution_count": 1,
   "id": "8880bf7d",
   "metadata": {},
   "outputs": [
    {
     "name": "stdout",
     "output_type": "stream",
     "text": [
      "True\n",
      "<class 'bool'> 94008136596480\n"
     ]
    }
   ],
   "source": [
    "# Declare a boolean value and store it in a variable.\n",
    "# Check the type and print the id of the same.\n",
    "\n",
    "b = True\n",
    "print(b)\n",
    "print(type(b), id(b))"
   ]
  },
  {
   "cell_type": "code",
   "execution_count": 2,
   "id": "a1b469fc",
   "metadata": {},
   "outputs": [
    {
     "name": "stdout",
     "output_type": "stream",
     "text": [
      "94008136596480 94008136596480\n"
     ]
    }
   ],
   "source": [
    "# Take one boolean value between 0 - 256.\n",
    "# Assign it to two different variables.\n",
    "# Check the id of both the variables. It should come the same. Check why?\n",
    "\n",
    "a = bool(33)\n",
    "b = bool(34)\n",
    "print(id(a), id(b))\n",
    "\n",
    "'''\n",
    "Ans:\n",
    "Boolean literals follows object reusability concept for literals\n",
    "'''"
   ]
  },
  {
   "cell_type": "code",
   "execution_count": 5,
   "id": "44bb82a4",
   "metadata": {},
   "outputs": [
    {
     "name": "stdout",
     "output_type": "stream",
     "text": [
      "sum 1\n",
      "diff -1\n",
      "prod 0\n",
      "div 0.0\n",
      "remainder 0\n",
      "quotient 0\n",
      "exponent 0\n"
     ]
    }
   ],
   "source": [
    "# Arithmetic Operations on boolean data\n",
    "# Take two different boolean values.\n",
    "# Store them in two different variables.\n",
    "# Do below operations on them:-\n",
    "    # Find sum of both values\n",
    "    # Find difference between them\n",
    "    # Find the product of both.\n",
    "    # Find value after dividing first value with second value\n",
    "    # Find the remainder after dividing first value with second value\n",
    "    # Find the quotient after dividing first value with second value\n",
    "    # Find the result of first value to the power of second value\n",
    "\n",
    "\n",
    "a = False\n",
    "b = True\n",
    "print('sum', a+b)  # 0+1\n",
    "print('diff', a-b) # 0-1=-1\n",
    "print('prod', a*b) # 0*1 = 0\n",
    "print('div', a/b)  # 0/1 = 0 , True/False gives divide by 0 err\n",
    "print('remainder', a%b) # 0%1 = 0\n",
    "print('quotient', a//b) # 0//1 = 0\n",
    "print('exponent', a**b) # 0**1 = 0"
   ]
  },
  {
   "cell_type": "code",
   "execution_count": 9,
   "id": "8f515057",
   "metadata": {},
   "outputs": [
    {
     "name": "stdout",
     "output_type": "stream",
     "text": [
      "> False\n",
      "< True\n",
      ">= False\n",
      "<= True\n"
     ]
    }
   ],
   "source": [
    "# Comparison Operators on boolean values\n",
    "# Take two different boolean values.\n",
    "# Store them in two different variables.\n",
    "# Do below operations on them:-\n",
    "# Compare these two values with below operator:-\n",
    "# Greater than, '>'\n",
    "# less than, '<'\n",
    "# Greater than or equal to, '>='\n",
    "# Less than or equal to, '<='\n",
    "# Observe their output(return type should be boolean)\n",
    "\n",
    "a = False\n",
    "b = True\n",
    "print('>', a>b)  # 0>1: fALSE\n",
    "print('<', a<b) # 0<1=- True\n",
    "print('>=', a>=b) # 0>=1 = False\n",
    "print('<=', a<=b)  # 0<=1 = True\n"
   ]
  },
  {
   "cell_type": "code",
   "execution_count": 10,
   "id": "a74a9b53",
   "metadata": {},
   "outputs": [
    {
     "name": "stdout",
     "output_type": "stream",
     "text": [
      "== False\n",
      "!= True\n"
     ]
    }
   ],
   "source": [
    "# Equality Operator\n",
    "# Take two different boolean values.\n",
    "# Store them in two different variables.\n",
    "# Equate them using equality operators (==, !=)\n",
    "# Observe the output(return type should be boolean)\n",
    "\n",
    "a = False\n",
    "b = True\n",
    "print('==', a == b)  #fALSE\n",
    "print('!=', a!=b) # True\n"
   ]
  },
  {
   "cell_type": "code",
   "execution_count": 11,
   "id": "27b44bc6",
   "metadata": {},
   "outputs": [
    {
     "name": "stdout",
     "output_type": "stream",
     "text": [
      "True\n",
      "False\n",
      "False\n",
      "False\n",
      "True\n",
      "True\n",
      "True\n",
      "False\n",
      "False\n",
      "True\n"
     ]
    }
   ],
   "source": [
    "# Logical operators\n",
    "# Observe the output of below code\n",
    "# Cross check the output manually\n",
    "\n",
    "print(True and True) # True\n",
    "print(False and True) # False\n",
    "print(True and False) # False\n",
    "print(False and False) # False\n",
    "\n",
    "print(True or True) # True\n",
    "print(False or True) # True\n",
    "print(True or False) # True\n",
    "print(False or False) # False\n",
    "\n",
    "print(not True)  # False\n",
    "print(not False) # True\n",
    "\n"
   ]
  },
  {
   "cell_type": "code",
   "execution_count": 12,
   "id": "b6121371",
   "metadata": {},
   "outputs": [
    {
     "name": "stdout",
     "output_type": "stream",
     "text": [
      "& False\n",
      "| True\n",
      "^ True\n",
      "~ -2\n",
      "<< 4\n",
      ">> 0\n"
     ]
    }
   ],
   "source": [
    "# Bitwise Operators\n",
    "# Do below operations on the values provided below:-\n",
    "    # Bitwise and(&) --------------> True, True -------> Output is True\n",
    "    # Bitwise or(|)\n",
    "    # Bitwise(^) -------> Output is True\n",
    "    # -------> Output is True\n",
    "    # --------------> True, False\n",
    "    # --------------> True, False\n",
    "    # Bitwise negation(~) ---------> True\n",
    "    # Bitwise left shift ---------> True,2\n",
    "    # -------> Output is -2\n",
    "    # -------> Output is 4\n",
    "    # Bitwise right shift ---------> True,2\n",
    "# Cross check the output manually\n",
    "\n",
    "a = True\n",
    "b = False\n",
    "\n",
    "print('&', a & b) # 0 => False\n",
    "print('|', a | b) #  => True\n",
    "print('^', a ^ b) # 1 => True\n",
    "print('~', ~a) #. ~(1) ===> 111111....11110 => -[00000... 0001+1] => -2\n",
    "print('<<',a << 2) # 4 : 00000001 << 2 => 0000000100 => 4\n",
    "print('>>', a >> 2) # 0: 000000000001 >> 2 ==> 00000000000"
   ]
  },
  {
   "cell_type": "code",
   "execution_count": 13,
   "id": "12c1ad86",
   "metadata": {},
   "outputs": [
    {
     "name": "stdout",
     "output_type": "stream",
     "text": [
      "True\n",
      "False\n"
     ]
    }
   ],
   "source": [
    "# What is the output of expression inside the print statement. Cross\n",
    "# check before running the program.\n",
    "# a = ​ True\n",
    "# b = ​ True\n",
    "# print​ (a ​ is​ b)\n",
    "\n",
    "a = True\n",
    "b = True\n",
    "print(a is b) # True\n",
    "print(a is not b) # False"
   ]
  },
  {
   "cell_type": "code",
   "execution_count": 44,
   "id": "fdc93bfa",
   "metadata": {},
   "outputs": [
    {
     "name": "stdout",
     "output_type": "stream",
     "text": [
      "True\n",
      "True\n",
      "True\n",
      "True\n",
      "True\n"
     ]
    }
   ],
   "source": [
    "## Membership operation\n",
    "# in, not in are two membership operators and it returns boolean value\n",
    "\n",
    "print(True in [10, 10.20,10+20j,'Python',1]) # 1 is considered as True and 0 is considered as False \n",
    "print(False in (10, 10.20,10+20j,'Python',False)) \n",
    "print(False in {0,2,3})\n",
    "print(True in {1: 100, False:200, 1:300})\n",
    "print(False in {0: 100, False:200, True:300})\n"
   ]
  }
 ],
 "metadata": {
  "kernelspec": {
   "display_name": "Python 3 (ipykernel)",
   "language": "python",
   "name": "python3"
  },
  "language_info": {
   "codemirror_mode": {
    "name": "ipython",
    "version": 3
   },
   "file_extension": ".py",
   "mimetype": "text/x-python",
   "name": "python",
   "nbconvert_exporter": "python",
   "pygments_lexer": "ipython3",
   "version": "3.9.12"
  }
 },
 "nbformat": 4,
 "nbformat_minor": 5
}
