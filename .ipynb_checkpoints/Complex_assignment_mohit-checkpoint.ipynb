{
 "cells": [
  {
   "cell_type": "code",
   "execution_count": 1,
   "id": "62bfd83c",
   "metadata": {},
   "outputs": [
    {
     "name": "stdout",
     "output_type": "stream",
     "text": [
      "6\n",
      "<class 'int'> 140029822093776\n"
     ]
    }
   ],
   "source": [
    "# Declare a complex number and store it in a variable.\n",
    "# Check the type and print the id of the same.\n",
    "\n",
    "cmplx = 2+4\n",
    "print(cmplx)\n",
    "print(type(cmplx), id(cmplx))"
   ]
  },
  {
   "cell_type": "code",
   "execution_count": 4,
   "id": "a81e567d",
   "metadata": {},
   "outputs": [
    {
     "name": "stdout",
     "output_type": "stream",
     "text": [
      "sum (7+8j)\n",
      "dff (-1+2j)\n",
      "product (-3+29j)\n",
      "dividing (1.08+0.44j)\n",
      "exponential (-52.53587723270871+0.7213559744230048j)\n"
     ]
    }
   ],
   "source": [
    "# Arithmetic Operations on complex number\n",
    "# Take two different complex numbers.\n",
    "# Store them in two different variables.\n",
    "# Do below operations on them:-\n",
    "    # Find sum of both numbers\n",
    "    # Find difference between them\n",
    "    # Find the product of both numbers.\n",
    "    # Find value after dividing first num with second number\n",
    "    # Find the result of the first num to the power of the second number.\n",
    "\n",
    "c1 = 3+5j\n",
    "c2 = 4+3j;\n",
    "print('sum', c1+c2)\n",
    "print('dff', c1-c2)\n",
    "print('product', c1*c2)\n",
    "print('dividing', c1/c2)\n",
    "print('exponential', c1 ** c2)\n",
    "\n"
   ]
  },
  {
   "cell_type": "code",
   "execution_count": 7,
   "id": "18219a13",
   "metadata": {},
   "outputs": [
    {
     "name": "stdout",
     "output_type": "stream",
     "text": [
      "id c1 140029300904176 id c2 140029300904080\n",
      "Identity False\n"
     ]
    }
   ],
   "source": [
    "# Comparison Operation not applicable between instance of complex values.\n",
    "# Object reusability concept is not applicable on complex number\n",
    "\n",
    "c1 = 4+3j\n",
    "c2 = 4+3j;\n",
    "\n",
    "# print(c1 < c2) comparision not supported for complex type\n",
    "print('id c1', id(c1), 'id c2', id(c2))\n",
    "print('Identity', c1 is c2)"
   ]
  },
  {
   "cell_type": "code",
   "execution_count": 8,
   "id": "7f10269c",
   "metadata": {},
   "outputs": [
    {
     "name": "stdout",
     "output_type": "stream",
     "text": [
      "Equality False\n",
      "Not Equality True\n"
     ]
    }
   ],
   "source": [
    "# Equality Operator\n",
    "# Take two different complex numbers.\n",
    "# Store them in two different variables.\n",
    "# Equate them using equality operators (==, !=)\n",
    "# Observe the output(return type should be boolean)\n",
    "\n",
    "c1 = 4+5j\n",
    "c2 = 4+3j;\n",
    "\n",
    "print('Equality',c1 == c2)\n",
    "print('Not Equality',c1 != c2)\n"
   ]
  },
  {
   "cell_type": "code",
   "execution_count": 11,
   "id": "10f68056",
   "metadata": {},
   "outputs": [
    {
     "name": "stdout",
     "output_type": "stream",
     "text": [
      "(20+30j)\n",
      "0j\n",
      "0j\n",
      "0j\n",
      "(10+20j)\n",
      "(20+30j)\n",
      "(20+30j)\n",
      "0j\n",
      "False\n",
      "True\n"
     ]
    }
   ],
   "source": [
    "# Logical operators\n",
    "# Observe the output of below code\n",
    "# Cross check the output manually\n",
    "# print​ ( ​ 10​ + ​ 20j​ ​ and​ ​ 20​ + ​ 30j​ )\n",
    "# #20+30j\n",
    "# #----------------------------------------->Output is 20+30j\n",
    "# print​ ( ​ 0 ​ + ​ 0j​ ​ and​ ​ 20​ + ​ 30j​ ) #0+0j\n",
    "# print​ ( ​ 20​ + ​ 30j​ ​ and​ ​ 0 ​ + ​ 0j​ ) #0+0j\n",
    "# #----------------------------------------->Output is 0j\n",
    "# #----------------------------------------->Output is 0j\n",
    "# print​ ( ​ 0 ​ + ​ 0j​ ​ and​ ​ 0 ​ + ​ 0j​ )\n",
    "# #0+0j\n",
    "# #----------------------------------------->Output is 0j\n",
    "# print​ ( ​ 10​ + ​ 20j​ ​ or​ ​ 20​ + ​ 30j​ )\n",
    "# #10+20j\n",
    "# #----------------------------------------->Output is 10+20j\n",
    "# print​ ( ​ 0 ​ + ​ 0j​ ​ or​ ​ 20​ + ​ 30j​ ) #20+30j\n",
    "# print​ ( ​ 20​ + ​ 30j​ ​ or​ ​ 0 ​ + ​ 0j​ ) #20+30j\n",
    "# #----------------------------------------->Output is 20+30j\n",
    "# #----------------------------------------->Output is 20+30j\n",
    "# print​ ( ​ 0 ​ + ​ 0j​ ​ or​ ​ 0 ​ + ​ 0j​ )\n",
    "# #0+0j\n",
    "# #----------------------------------------->Output is 0j\n",
    "# print​ ( ​ not​ ​ 10​ + ​ 20j​ )\n",
    "# #False\n",
    "# #----------------------------------------->Output is False\n",
    "# print​ ( ​ not​ ​ 0 ​ + ​ 0j​ )\n",
    "# #True\n",
    "# #----------------------------------------->Output is True\n",
    "\n",
    "print(10+20j and 20+30j) # => 20+30j A doesn't evaluates to false, then B\n",
    "print(0+0j and 20+30j) # => 0+0j A evaluates to false, then A\n",
    "print(20+30j and 0+0j) # => 0+0j A doesn't evaluates to false, then B\n",
    "print(0+0j and 0+0j) # => 0+0j A evaluates to false, then A\n",
    "\n",
    "print(10+20j or 20+30j) # => 10+20j A evaluates to True, then A\n",
    "print(0+0j or 20+30j) # => 20+30j A evaluates to false, then B\n",
    "print(20+30j or 0+0j) # => 20+30j A evaluates to True, then A\n",
    "print(0+0j or 0+0j) # => 0+0j A evaluates to false, then B\n",
    "\n",
    "print(not 10+20j) # => False\n",
    "print(not 0+0j) # => True\n"
   ]
  },
  {
   "cell_type": "code",
   "execution_count": 12,
   "id": "bd14e8a9",
   "metadata": {},
   "outputs": [
    {
     "name": "stdout",
     "output_type": "stream",
     "text": [
      "False\n",
      "True\n"
     ]
    }
   ],
   "source": [
    "# What is the output of the expression inside the print statement.\n",
    "# Cross check before running the program.\n",
    "# a = ​ 10​ + ​ 20j\n",
    "# b = ​ 10​ + ​ 20j\n",
    "# print​ (a ​ is​ b)\n",
    "# print​ (a ​ is​ ​ not​ b)\n",
    "# #False\n",
    "# #True\n",
    "# #True or False?\n",
    "# #True or False?\n",
    "\n",
    "a = 10+20j\n",
    "b = 10+20j\n",
    "\n",
    "print(a is b) # False\n",
    "print(a is not b) # True"
   ]
  },
  {
   "cell_type": "code",
   "execution_count": 15,
   "id": "93ae2998",
   "metadata": {},
   "outputs": [
    {
     "name": "stdout",
     "output_type": "stream",
     "text": [
      "True\n",
      "True\n",
      "True\n",
      "True\n",
      "True\n",
      "True\n"
     ]
    }
   ],
   "source": [
    "# Membership operation\n",
    "\n",
    "# print(10 in (10+20j)) # membership operations can't be performed\n",
    "                        # since,complex datatype is not iterable\n",
    "\n",
    "    \n",
    "print('2.7' in 'Python2.7.8')  # True\n",
    "print(10+20j in [10, 10.20, 10+20j, 'Python']) # True\n",
    "print(10+20j in (10, 10.20, 10+20j, 'Python')) # True\n",
    "print(30+40j in {10, 20.30, 30+40j}) # True\n",
    "print(30+40j in {1:100, 2.3:200, 30+40j:300}) # True\n",
    "print(10 in range(20)) # True\n",
    "\n"
   ]
  }
 ],
 "metadata": {
  "kernelspec": {
   "display_name": "Python 3 (ipykernel)",
   "language": "python",
   "name": "python3"
  },
  "language_info": {
   "codemirror_mode": {
    "name": "ipython",
    "version": 3
   },
   "file_extension": ".py",
   "mimetype": "text/x-python",
   "name": "python",
   "nbconvert_exporter": "python",
   "pygments_lexer": "ipython3",
   "version": "3.9.12"
  }
 },
 "nbformat": 4,
 "nbformat_minor": 5
}
