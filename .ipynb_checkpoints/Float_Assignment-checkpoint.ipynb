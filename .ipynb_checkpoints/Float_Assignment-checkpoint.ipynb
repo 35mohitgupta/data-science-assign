{
 "cells": [
  {
   "cell_type": "code",
   "execution_count": 1,
   "id": "88e80781",
   "metadata": {},
   "outputs": [
    {
     "name": "stdout",
     "output_type": "stream",
     "text": [
      "2.2 <class 'float'> 140565388520848\n"
     ]
    }
   ],
   "source": [
    "# Declare a float value and store it in a variable.\n",
    "# Check the type and print the id of the same.\n",
    "\n",
    "f = 2.2\n",
    "print(f, type(f), id(f))"
   ]
  },
  {
   "cell_type": "code",
   "execution_count": 2,
   "id": "b2a314e9",
   "metadata": {},
   "outputs": [
    {
     "name": "stdout",
     "output_type": "stream",
     "text": [
      "sum 8.0\n",
      "difference 3.0\n",
      "product 13.75\n",
      "divide 2.2\n",
      "remainder 0.5\n",
      "quotient 2.0\n",
      "exponent 70.94253836732938\n"
     ]
    }
   ],
   "source": [
    "# Arithmetic Operations on float\n",
    "# Take two different float values.\n",
    "# Store them in two different variables.\n",
    "# Do below operations on them:-\n",
    "    # Find sum of both numbers\n",
    "    # Find difference between them\n",
    "    # Find the product of both numbers.\n",
    "    # Find value after dividing first num with second number\n",
    "    # Find the remainder after dividing first number with second number\n",
    "    # Find the quotient after dividing first number with second number\n",
    "    # Find the result of the first num to the power of the second number.\n",
    "\n",
    "a = 5.5\n",
    "b = 2.5\n",
    "\n",
    "print('sum', a+b)\n",
    "print('difference', a-b)\n",
    "print('product', a*b)\n",
    "print('divide', a/b)\n",
    "print('remainder', a%b)\n",
    "print('quotient', a//b)\n",
    "print('exponent', a**b)"
   ]
  },
  {
   "cell_type": "code",
   "execution_count": 4,
   "id": "cd62928f",
   "metadata": {},
   "outputs": [
    {
     "name": "stdout",
     "output_type": "stream",
     "text": [
      ">  False\n",
      "<  False\n",
      ">=  True\n",
      "<=  True\n"
     ]
    }
   ],
   "source": [
    "# Comparison Operators on float\n",
    "# Take two different float values.\n",
    "# Store them in two different variables.\n",
    "# Do below operations on them:-\n",
    "# Compare these two numbers with below operator:-\n",
    "    # Greater than, '>'\n",
    "    # Smaller than, '<'\n",
    "    # Greater than or equal to, '>='\n",
    "    # Less than or equal to, '<='\n",
    "# Observe their output(return type should be boolean)\n",
    "\n",
    "\n",
    "a = 2.5\n",
    "b = 5/2\n",
    "\n",
    "print('> ', a>b)\n",
    "print('< ', a<b)\n",
    "print('>= ', a>=b)\n",
    "print('<= ', a<=b)"
   ]
  },
  {
   "cell_type": "code",
   "execution_count": 6,
   "id": "11b69ca0",
   "metadata": {},
   "outputs": [
    {
     "name": "stdout",
     "output_type": "stream",
     "text": [
      "==  False\n",
      "!=  True\n"
     ]
    }
   ],
   "source": [
    "# Equality Operator\n",
    "# Take two different float values.\n",
    "# Store them in two different variables.\n",
    "# Equate them using equality operators (==, !=)\n",
    "# Observe the output(return type should be boolean)\n",
    "\n",
    "a = 2.5\n",
    "b = 5.2\n",
    "\n",
    "print('== ', a==b)\n",
    "print('!= ', a!=b)"
   ]
  },
  {
   "cell_type": "code",
   "execution_count": 7,
   "id": "59e76df3",
   "metadata": {},
   "outputs": [
    {
     "name": "stdout",
     "output_type": "stream",
     "text": [
      "20.3\n",
      "0.0\n",
      "0.0\n",
      "0.0\n",
      "10.2\n",
      "20.3\n",
      "20.3\n",
      "0.0\n",
      "False\n",
      "True\n"
     ]
    }
   ],
   "source": [
    "# Logical operators\n",
    "\n",
    "print(10.20 and 20.30) # 20.30 : A true. hence B\n",
    "print(0.0 and 20.30) # 0.0 : A false. hence A\n",
    "print(20.30 and 0.0) # 0.0 : A true. hence B\n",
    "print(0.0 and 0.0) # 0.0 : A false. hence A\n",
    "\n",
    "print(10.20 or 20.30) # 10.20 : A true, hence A\n",
    "print(0.0 or 20.30) # 20.30 : A false, hence B\n",
    "print(20.30 or 0.0) # 20.30 : A true, hence A\n",
    "print(0.0 or 0.0) # 0.0 : A false, hence B\n",
    "\n",
    "print(not 10.20) # False\n",
    "print(not 0.0) # True"
   ]
  },
  {
   "cell_type": "code",
   "execution_count": 8,
   "id": "d3eed333",
   "metadata": {},
   "outputs": [
    {
     "name": "stdout",
     "output_type": "stream",
     "text": [
      "False\n",
      "True\n"
     ]
    }
   ],
   "source": [
    "# What is the output of expression inside print statement. Cross check\n",
    "# before running the program.\n",
    "\n",
    "a = 10.20\n",
    "b = 10.20\n",
    "\n",
    "print(a is b) # False\n",
    "print(a is not b) #True\n",
    "\n",
    "# Why the Id of float values are different when the same value is\n",
    "# assigned to two different variables\n",
    "# ex: a = 10.5 b=10.5. but id will be same if I assign the variable\n",
    "# having float i.e. a=c then both a and c's Id are same\n",
    "\n",
    "# Ans\n",
    "'''\n",
    "Because Object reusability concept is not applicable on float values, different objects will be created and \n",
    "stored separately.\n",
    "Assignment makes the other variable referening to the same object which other one is pointed to.\n",
    "'''"
   ]
  },
  {
   "cell_type": "code",
   "execution_count": 1,
   "id": "55d2f502",
   "metadata": {},
   "outputs": [
    {
     "ename": "TypeError",
     "evalue": "unsupported operand type(s) for |: 'float' and 'float'",
     "output_type": "error",
     "traceback": [
      "\u001b[0;31m---------------------------------------------------------------------------\u001b[0m",
      "\u001b[0;31mTypeError\u001b[0m                                 Traceback (most recent call last)",
      "Input \u001b[0;32mIn [1]\u001b[0m, in \u001b[0;36m<cell line: 8>\u001b[0;34m()\u001b[0m\n\u001b[1;32m      1\u001b[0m \u001b[38;5;66;03m# Bitwise operation is not applicable between instances of float.\u001b[39;00m\n\u001b[1;32m      2\u001b[0m \u001b[38;5;66;03m# Why the Id of float values are different when the same value is\u001b[39;00m\n\u001b[1;32m      3\u001b[0m \u001b[38;5;66;03m# assigned to two different variables\u001b[39;00m\n\u001b[1;32m      4\u001b[0m \u001b[38;5;66;03m# ex: a = 10.5 b=10.5. but id will be same if I assign the variable\u001b[39;00m\n\u001b[1;32m      5\u001b[0m \u001b[38;5;66;03m# having float i.e. a=c then both a and c's Id are same\u001b[39;00m\n\u001b[1;32m      6\u001b[0m \u001b[38;5;66;03m# Object reusability concept is not applicable on float values.\u001b[39;00m\n\u001b[0;32m----> 8\u001b[0m a \u001b[38;5;241m=\u001b[39m \u001b[38;5;241;43m2.2\u001b[39;49m\u001b[43m \u001b[49m\u001b[38;5;241;43m|\u001b[39;49m\u001b[43m \u001b[49m\u001b[38;5;241;43m2.1\u001b[39;49m\n\u001b[1;32m      9\u001b[0m \u001b[38;5;66;03m# Ans\u001b[39;00m\n\u001b[1;32m     10\u001b[0m \u001b[38;5;124;03m'''\u001b[39;00m\n\u001b[1;32m     11\u001b[0m \u001b[38;5;124;03mBecause Object reusability concept is not applicable on float values, different objects will be created and \u001b[39;00m\n\u001b[1;32m     12\u001b[0m \u001b[38;5;124;03mstored separately.\u001b[39;00m\n\u001b[1;32m     13\u001b[0m \u001b[38;5;124;03mAssignment makes the other variable referening to the same object which other one is pointed to.\u001b[39;00m\n\u001b[1;32m     14\u001b[0m \u001b[38;5;124;03m'''\u001b[39;00m\n",
      "\u001b[0;31mTypeError\u001b[0m: unsupported operand type(s) for |: 'float' and 'float'"
     ]
    }
   ],
   "source": [
    "# Bitwise operation is not applicable between instances of float.\n",
    "# Why the Id of float values are different when the same value is\n",
    "# assigned to two different variables\n",
    "# ex: a = 10.5 b=10.5. but id will be same if I assign the variable\n",
    "# having float i.e. a=c then both a and c's Id are same\n",
    "# Object reusability concept is not applicable on float values.\n",
    "\n",
    "a = 2.2 | 2.1\n",
    "# Ans\n",
    "'''\n",
    "Because Object reusability concept is not applicable on float values, different objects will be created and \n",
    "stored separately.\n",
    "Assignment makes the other variable referening to the same object which other one is pointed to.\n",
    "'''"
   ]
  },
  {
   "cell_type": "code",
   "execution_count": 13,
   "id": "f979de55",
   "metadata": {},
   "outputs": [
    {
     "name": "stdout",
     "output_type": "stream",
     "text": [
      "True\n",
      "True\n",
      "True\n",
      "True\n",
      "True\n",
      "True\n"
     ]
    }
   ],
   "source": [
    "# Membership operation\n",
    "\n",
    "print('2.7' in 'Python2.7.8') #True\n",
    "print(10.20 in [10,10.20,10+20j,'Python']) #True\n",
    "print(10.20 in (10,10.20,10+20j, 'Python')) #True\n",
    "print(20.30 in {1,20.30,30+40j}) #True\n",
    "print(2.3 in {1:100, 2.3 : 200, 30+40j: 300}) #True\n",
    "print(10 in range(20)) #True"
   ]
  }
 ],
 "metadata": {
  "kernelspec": {
   "display_name": "Python 3 (ipykernel)",
   "language": "python",
   "name": "python3"
  },
  "language_info": {
   "codemirror_mode": {
    "name": "ipython",
    "version": 3
   },
   "file_extension": ".py",
   "mimetype": "text/x-python",
   "name": "python",
   "nbconvert_exporter": "python",
   "pygments_lexer": "ipython3",
   "version": "3.9.12"
  }
 },
 "nbformat": 4,
 "nbformat_minor": 5
}
