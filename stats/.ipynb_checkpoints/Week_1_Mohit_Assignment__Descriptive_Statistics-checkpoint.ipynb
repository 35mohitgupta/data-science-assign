{
 "cells": [
  {
   "cell_type": "code",
   "execution_count": 1,
   "id": "39f11e08",
   "metadata": {
    "id": "39f11e08"
   },
   "outputs": [],
   "source": [
    "import numpy as np\n",
    "import pandas as pd\n",
    "import matplotlib.pyplot as plt\n",
    "import seaborn as sn"
   ]
  },
  {
   "cell_type": "code",
   "execution_count": 2,
   "id": "5ee2c8c8",
   "metadata": {
    "id": "5ee2c8c8",
    "outputId": "0cc824c0-73cc-4817-a615-7b882e4e019b"
   },
   "outputs": [
    {
     "data": {
      "text/plain": [
       "['anagrams',\n",
       " 'anscombe',\n",
       " 'attention',\n",
       " 'brain_networks',\n",
       " 'car_crashes',\n",
       " 'diamonds',\n",
       " 'dots',\n",
       " 'dowjones',\n",
       " 'exercise',\n",
       " 'flights',\n",
       " 'fmri',\n",
       " 'geyser',\n",
       " 'glue',\n",
       " 'healthexp',\n",
       " 'iris',\n",
       " 'mpg',\n",
       " 'penguins',\n",
       " 'planets',\n",
       " 'seaice',\n",
       " 'taxis',\n",
       " 'tips',\n",
       " 'titanic']"
      ]
     },
     "execution_count": 2,
     "metadata": {},
     "output_type": "execute_result"
    }
   ],
   "source": [
    "sn.get_dataset_names()"
   ]
  },
  {
   "cell_type": "code",
   "execution_count": 2,
   "id": "d1b3a5b6",
   "metadata": {
    "id": "d1b3a5b6",
    "outputId": "4c609ad8-2b00-4a43-ec8a-0b30c7377582"
   },
   "outputs": [
    {
     "data": {
      "text/html": [
       "<div>\n",
       "<style scoped>\n",
       "    .dataframe tbody tr th:only-of-type {\n",
       "        vertical-align: middle;\n",
       "    }\n",
       "\n",
       "    .dataframe tbody tr th {\n",
       "        vertical-align: top;\n",
       "    }\n",
       "\n",
       "    .dataframe thead th {\n",
       "        text-align: right;\n",
       "    }\n",
       "</style>\n",
       "<table border=\"1\" class=\"dataframe\">\n",
       "  <thead>\n",
       "    <tr style=\"text-align: right;\">\n",
       "      <th></th>\n",
       "      <th>total_bill</th>\n",
       "      <th>tip</th>\n",
       "      <th>sex</th>\n",
       "      <th>smoker</th>\n",
       "      <th>day</th>\n",
       "      <th>time</th>\n",
       "      <th>size</th>\n",
       "    </tr>\n",
       "  </thead>\n",
       "  <tbody>\n",
       "    <tr>\n",
       "      <th>0</th>\n",
       "      <td>16.99</td>\n",
       "      <td>1.01</td>\n",
       "      <td>Female</td>\n",
       "      <td>No</td>\n",
       "      <td>Sun</td>\n",
       "      <td>Dinner</td>\n",
       "      <td>2</td>\n",
       "    </tr>\n",
       "    <tr>\n",
       "      <th>1</th>\n",
       "      <td>10.34</td>\n",
       "      <td>1.66</td>\n",
       "      <td>Male</td>\n",
       "      <td>No</td>\n",
       "      <td>Sun</td>\n",
       "      <td>Dinner</td>\n",
       "      <td>3</td>\n",
       "    </tr>\n",
       "    <tr>\n",
       "      <th>2</th>\n",
       "      <td>21.01</td>\n",
       "      <td>3.50</td>\n",
       "      <td>Male</td>\n",
       "      <td>No</td>\n",
       "      <td>Sun</td>\n",
       "      <td>Dinner</td>\n",
       "      <td>3</td>\n",
       "    </tr>\n",
       "    <tr>\n",
       "      <th>3</th>\n",
       "      <td>23.68</td>\n",
       "      <td>3.31</td>\n",
       "      <td>Male</td>\n",
       "      <td>No</td>\n",
       "      <td>Sun</td>\n",
       "      <td>Dinner</td>\n",
       "      <td>2</td>\n",
       "    </tr>\n",
       "    <tr>\n",
       "      <th>4</th>\n",
       "      <td>24.59</td>\n",
       "      <td>3.61</td>\n",
       "      <td>Female</td>\n",
       "      <td>No</td>\n",
       "      <td>Sun</td>\n",
       "      <td>Dinner</td>\n",
       "      <td>4</td>\n",
       "    </tr>\n",
       "  </tbody>\n",
       "</table>\n",
       "</div>"
      ],
      "text/plain": [
       "   total_bill   tip     sex smoker  day    time  size\n",
       "0       16.99  1.01  Female     No  Sun  Dinner     2\n",
       "1       10.34  1.66    Male     No  Sun  Dinner     3\n",
       "2       21.01  3.50    Male     No  Sun  Dinner     3\n",
       "3       23.68  3.31    Male     No  Sun  Dinner     2\n",
       "4       24.59  3.61  Female     No  Sun  Dinner     4"
      ]
     },
     "execution_count": 2,
     "metadata": {},
     "output_type": "execute_result"
    }
   ],
   "source": [
    "df = sn.load_dataset('tips')\n",
    "df.head()"
   ]
  },
  {
   "cell_type": "code",
   "execution_count": null,
   "id": "89a93f23",
   "metadata": {
    "id": "89a93f23"
   },
   "outputs": [],
   "source": [
    "#Assignment (submit by 21st Oct 2022)\n",
    "\n",
    "# Use tips file from the available datasets, work only on the feature total_bill\n",
    "\n",
    "# Visualize boxplot and histogram to comment on the distribution\n",
    "# Comment on skewness and kurtosis (interpret the values)\n",
    "# Use both outlier detection methods (IQR Method & Z Method)\n",
    "# Provide your analysis about the outliers obtained\n",
    "# Did you observe any difference in the two methods of outliers?\n",
    "# Find correlation of total_bill and size, comment on the correlation (bivariate analysis)\n",
    "\n",
    "\n",
    "# Share your responses in the same file as comments (so that it is understandable)\n",
    "\n",
    "# Download the JN as pdf and share in the below link:\n",
    "\n",
    "# https://drive.google.com/drive/folders/1-J5AMi4V8GGcdtJnhc-TOm78aK-klFeF?usp=sharing\n",
    "    \n"
   ]
  },
  {
   "cell_type": "code",
   "execution_count": 4,
   "id": "3c3908ab",
   "metadata": {},
   "outputs": [
    {
     "data": {
      "text/plain": [
       "<AxesSubplot:xlabel='total_bill'>"
      ]
     },
     "execution_count": 4,
     "metadata": {},
     "output_type": "execute_result"
    },
    {
     "data": {
      "image/png": "[encoded data removed]",
      "text/plain": [
       "<Figure size 432x288 with 1 Axes>"
      ]
     },
     "metadata": {
      "needs_background": "light"
     },
     "output_type": "display_data"
    }
   ],
   "source": [
    "sn.boxplot(x = 'total_bill', data=df)"
   ]
  },
  {
   "cell_type": "markdown",
   "id": "51df1e23",
   "metadata": {},
   "source": [
    "### Observation made on the basis of above boxplot\n",
    "1. Around 50% of the total number of total_bills are in the range 13-24. In other words, number of total_bills b/w 13-24 contibute to the 50% of all the total_bills\n",
    "2. The graph is right-skewed because the length of right whisker is larger as compared to left.\n",
    "3. Values greater than approx 40 are outliers based on IQR method."
   ]
  },
  {
   "cell_type": "code",
   "execution_count": 6,
   "id": "7a4951e0",
   "metadata": {},
   "outputs": [
    {
     "data": {
      "text/plain": [
       "<AxesSubplot:xlabel='total_bill', ylabel='Count'>"
      ]
     },
     "execution_count": 6,
     "metadata": {},
     "output_type": "execute_result"
    },
    {
     "data": {
      "image/png": "[encoded data removed]",
      "text/plain": [
       "<Figure size 432x288 with 1 Axes>"
      ]
     },
     "metadata": {
      "needs_background": "light"
     },
     "output_type": "display_data"
    }
   ],
   "source": [
    "sn.histplot(data=df,x = 'total_bill',kde='kde')"
   ]
  },
  {
   "cell_type": "markdown",
   "id": "82b0592f",
   "metadata": {},
   "source": [
    "### Observation made on the basis of above histogram\n",
    "1. Most of the customer have total_bill b/w 10 and 25.\n",
    "2. Number of customers with total_bill decreases as total_bill increases.\n",
    "3. The graph is right-skewed."
   ]
  },
  {
   "cell_type": "code",
   "execution_count": 20,
   "id": "6a1b7788",
   "metadata": {},
   "outputs": [
    {
     "data": {
      "text/plain": [
       "1.1262346334818638"
      ]
     },
     "execution_count": 20,
     "metadata": {},
     "output_type": "execute_result"
    }
   ],
   "source": [
    "from scipy import stats\n",
    "stats.skew(df['total_bill'])"
   ]
  },
  {
   "cell_type": "markdown",
   "id": "75b5cd38",
   "metadata": {},
   "source": [
    "#### Since, skewness > 1, distribution is highly righty skewed"
   ]
  },
  {
   "cell_type": "code",
   "execution_count": 5,
   "id": "a3a9a7f3",
   "metadata": {},
   "outputs": [
    {
     "data": {
      "text/plain": [
       "1.2184840156638854"
      ]
     },
     "execution_count": 5,
     "metadata": {},
     "output_type": "execute_result"
    }
   ],
   "source": [
    "df['total_bill'].kurtosis()"
   ]
  },
  {
   "cell_type": "markdown",
   "id": "d1a4e9c9",
   "metadata": {},
   "source": [
    "#### Since, kurtosis < 3 the graph is Platykurtic"
   ]
  },
  {
   "cell_type": "code",
   "execution_count": 38,
   "id": "66a74d68",
   "metadata": {},
   "outputs": [
    {
     "name": "stdout",
     "output_type": "stream",
     "text": [
      "q1 13.3475\n",
      "q2 17.795\n",
      "q3 24.127499999999998\n",
      "iqr 10.779999999999998\n",
      "lower_bound -2.8224999999999945\n",
      "upper_bound 40.29749999999999\n",
      "\n",
      "outliers count 9\n"
     ]
    },
    {
     "data": {
      "text/plain": [
       "<AxesSubplot:xlabel='values', ylabel='Count'>"
      ]
     },
     "execution_count": 38,
     "metadata": {},
     "output_type": "execute_result"
    },
    {
     "data": {
      "image/png": "[encoded data removed]",
      "text/plain": [
       "<Figure size 432x288 with 1 Axes>"
      ]
     },
     "metadata": {
      "needs_background": "light"
     },
     "output_type": "display_data"
    }
   ],
   "source": [
    "# IQR outlier detection algorithm\n",
    "def iqr_outliers(arr):\n",
    "    q1 = np.percentile(arr, 25)\n",
    "    q2 = np.median(arr)\n",
    "    q3 = np.percentile(arr, 75)\n",
    "    iqr = q3-q1\n",
    "    lower_bound = q1 - 1.5*iqr\n",
    "    upper_bound = q3 + 1.5*iqr\n",
    "    print('q1',q1)\n",
    "    print('q2',q2)\n",
    "    print('q3',q3)\n",
    "    print('iqr',iqr)\n",
    "    print('lower_bound',lower_bound)\n",
    "    print('upper_bound',upper_bound)\n",
    "    return pd.DataFrame({\n",
    "        'values':arr,\n",
    "            'is_outlier': (arr < lower_bound) | (arr > upper_bound)})\n",
    "    \n",
    "outlier_info = iqr_outliers(df['total_bill'])\n",
    "# outlier_info.loc[output['is_outlier'] == True] # returns all outliers\n",
    "\n",
    "without_outliers_iqr = outlier_info.loc[outlier_info['is_outlier'] == False]\n",
    "print('\\noutliers count',(outlier_info['is_outlier'] == True).sum())\n",
    "sn.histplot(x = 'values',data = without_outliers_iqr,kde='kde')"
   ]
  },
  {
   "cell_type": "code",
   "execution_count": 23,
   "id": "72622815",
   "metadata": {},
   "outputs": [
    {
     "data": {
      "text/plain": [
       "0.7255976389840281"
      ]
     },
     "execution_count": 23,
     "metadata": {},
     "output_type": "execute_result"
    }
   ],
   "source": [
    "without_outliers_iqr['values'].skew()\n",
    "# skewness reduced"
   ]
  },
  {
   "cell_type": "code",
   "execution_count": 9,
   "id": "ff28c6fe",
   "metadata": {},
   "outputs": [
    {
     "data": {
      "text/plain": [
       "<AxesSubplot:xlabel='values'>"
      ]
     },
     "execution_count": 9,
     "metadata": {},
     "output_type": "execute_result"
    },
    {
     "data": {
      "image/png": "[encoded data removed]",
      "text/plain": [
       "<Figure size 432x288 with 1 Axes>"
      ]
     },
     "metadata": {
      "needs_background": "light"
     },
     "output_type": "display_data"
    }
   ],
   "source": [
    "sn.boxplot(x = 'values',data = without_outliers_iqr)"
   ]
  },
  {
   "cell_type": "code",
   "execution_count": 33,
   "id": "e667a2fc",
   "metadata": {},
   "outputs": [
    {
     "name": "stdout",
     "output_type": "stream",
     "text": [
      "mean 19.785942622950824\n",
      "std 8.88415057777113\n",
      "z-score\n",
      "0     -0.314711\n",
      "1     -1.063235\n",
      "2      0.137780\n",
      "3      0.438315\n",
      "4      0.540745\n",
      "         ...   \n",
      "239    1.040511\n",
      "240    0.832275\n",
      "241    0.324630\n",
      "242   -0.221287\n",
      "243   -0.113229\n",
      "Name: total_bill, Length: 244, dtype: float64\n",
      "\n",
      "outliers count 4\n"
     ]
    }
   ],
   "source": [
    "# Z-Scoree method\n",
    "\n",
    "def z_score(arr, min_z_allowed = -3, max_z_allowed = 3):\n",
    "    mean = np.mean(arr)\n",
    "    std = np.std(arr)\n",
    "    z_score = (arr - mean)/std\n",
    "    print('mean', mean)\n",
    "    print('std', std)\n",
    "    print('z-score', z_score,sep='\\n')\n",
    "    return pd.DataFrame({'values': arr, 'z-score': z_score, \n",
    "            'is_outlier':(z_score < min_z_allowed) | (z_score > max_z_allowed)})\n",
    "\n",
    "zsqr_out = z_score(df['total_bill'])\n",
    "print('\\noutliers count',(zsqr_out['is_outlier'] == True).sum())"
   ]
  },
  {
   "cell_type": "code",
   "execution_count": 17,
   "id": "a876f002",
   "metadata": {},
   "outputs": [
    {
     "data": {
      "text/plain": [
       "<AxesSubplot:xlabel='values', ylabel='Count'>"
      ]
     },
     "execution_count": 17,
     "metadata": {},
     "output_type": "execute_result"
    },
    {
     "data": {
      "image/png": "[encoded data removed]",
      "text/plain": [
       "<Figure size 432x288 with 1 Axes>"
      ]
     },
     "metadata": {
      "needs_background": "light"
     },
     "output_type": "display_data"
    }
   ],
   "source": [
    "sn.histplot(x = 'values',data = zsqr_out,kde='kde')"
   ]
  },
  {
   "cell_type": "code",
   "execution_count": 25,
   "id": "af9b1357",
   "metadata": {},
   "outputs": [
    {
     "data": {
      "text/plain": [
       "1.1332130376158205"
      ]
     },
     "execution_count": 25,
     "metadata": {},
     "output_type": "execute_result"
    }
   ],
   "source": [
    "zsqr_out['values'].skew()"
   ]
  },
  {
   "cell_type": "code",
   "execution_count": 18,
   "id": "b7492f68",
   "metadata": {},
   "outputs": [
    {
     "data": {
      "text/plain": [
       "<AxesSubplot:xlabel='values'>"
      ]
     },
     "execution_count": 18,
     "metadata": {},
     "output_type": "execute_result"
    },
    {
     "data": {
      "image/png": "[encoded data removed]",
      "text/plain": [
       "<Figure size 432x288 with 1 Axes>"
      ]
     },
     "metadata": {
      "needs_background": "light"
     },
     "output_type": "display_data"
    }
   ],
   "source": [
    "sn.boxplot(x = 'values',data = zsqr_out)"
   ]
  },
  {
   "cell_type": "markdown",
   "id": "9bc08630",
   "metadata": {},
   "source": [
    "### Analysis and Differences among both outliers detection methods\n",
    "\n",
    "###### Boxplot Method\n",
    "\n",
    "1. The boxplot method considers the median of the data set so extreme values have lesser impact in this methd\n",
    "2. In boxplot method, we effectly detected outliers (9).\n",
    "3. The skewness dropped to 0.72559 from 1.12623\n",
    "\n",
    "###### Z-Score Method\n",
    "\n",
    "1. This method considers the mean as well as standard deviation for outlier detection. In this particular case S.D. is much higher(8.884, because of skewness) while the mean is only 19.7859. Now, since S.D. is higher so z-score will be less and hence there will less outliers(only 4) detected by this approach.\n",
    "2. This method is less effective for skewed distribution because their S.D increases and mean value is also impacted with the extreme values.\n",
    "3. The skewness of the graph also increases a little bit to 1.133213 from 1.12623."
   ]
  },
  {
   "cell_type": "markdown",
   "id": "84d825db",
   "metadata": {},
   "source": [
    "### Correlation"
   ]
  },
  {
   "cell_type": "code",
   "execution_count": 41,
   "id": "e8052b59",
   "metadata": {},
   "outputs": [
    {
     "data": {
      "text/plain": [
       "array([[1.        , 0.59831513],\n",
       "       [0.59831513, 1.        ]])"
      ]
     },
     "execution_count": 41,
     "metadata": {},
     "output_type": "execute_result"
    }
   ],
   "source": [
    "np.corrcoef(df['total_bill'], df['size'])"
   ]
  },
  {
   "cell_type": "markdown",
   "id": "1d99e7b1",
   "metadata": {},
   "source": [
    "#### Comment on correlation\n",
    "\n",
    "Since the value of correlation is 0.59831513 which is positive. This means that as the size of the customer/team increases total_bill also increase"
   ]
  }
 ],
 "metadata": {
  "colab": {
   "collapsed_sections": [],
   "provenance": []
  },
  "kernelspec": {
   "display_name": "Python 3 (ipykernel)",
   "language": "python",
   "name": "python3"
  },
  "language_info": {
   "codemirror_mode": {
    "name": "ipython",
    "version": 3
   },
   "file_extension": ".py",
   "mimetype": "text/x-python",
   "name": "python",
   "nbconvert_exporter": "python",
   "pygments_lexer": "ipython3",
   "version": "3.9.12"
  }
 },
 "nbformat": 4,
 "nbformat_minor": 5
}
