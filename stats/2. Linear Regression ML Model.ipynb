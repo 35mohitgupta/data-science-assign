{
 "cells": [
  {
   "cell_type": "code",
   "execution_count": 1,
   "metadata": {},
   "outputs": [],
   "source": [
    "#Imports\n",
    "\n",
    "import numpy as np\n",
    "import pandas as pd\n",
    "import matplotlib.pyplot as plt\n",
    "import seaborn as sns\n",
    "\n",
    "from sklearn.model_selection import train_test_split\n",
    "from sklearn.linear_model import LinearRegression\n",
    "from sklearn.metrics import r2_score, mean_squared_error  #(MSE)\n",
    "\n",
    "#Supress the warnings\n",
    "import warnings\n",
    "warnings.filterwarnings('ignore')"
   ]
  },
  {
   "cell_type": "code",
   "execution_count": 3,
   "metadata": {},
   "outputs": [],
   "source": [
    "#Importing the Dataset\n",
    "advertising = pd.read_csv(\"advertising.csv\")"
   ]
  },
  {
   "cell_type": "code",
   "execution_count": 4,
   "metadata": {},
   "outputs": [
    {
     "data": {
      "text/html": [
       "<div>\n",
       "<style scoped>\n",
       "    .dataframe tbody tr th:only-of-type {\n",
       "        vertical-align: middle;\n",
       "    }\n",
       "\n",
       "    .dataframe tbody tr th {\n",
       "        vertical-align: top;\n",
       "    }\n",
       "\n",
       "    .dataframe thead th {\n",
       "        text-align: right;\n",
       "    }\n",
       "</style>\n",
       "<table border=\"1\" class=\"dataframe\">\n",
       "  <thead>\n",
       "    <tr style=\"text-align: right;\">\n",
       "      <th></th>\n",
       "      <th>TV</th>\n",
       "      <th>Radio</th>\n",
       "      <th>Newspaper</th>\n",
       "      <th>Sales</th>\n",
       "    </tr>\n",
       "  </thead>\n",
       "  <tbody>\n",
       "    <tr>\n",
       "      <th>0</th>\n",
       "      <td>230.1</td>\n",
       "      <td>37.8</td>\n",
       "      <td>69.2</td>\n",
       "      <td>22.1</td>\n",
       "    </tr>\n",
       "    <tr>\n",
       "      <th>1</th>\n",
       "      <td>44.5</td>\n",
       "      <td>39.3</td>\n",
       "      <td>45.1</td>\n",
       "      <td>10.4</td>\n",
       "    </tr>\n",
       "    <tr>\n",
       "      <th>2</th>\n",
       "      <td>17.2</td>\n",
       "      <td>45.9</td>\n",
       "      <td>69.3</td>\n",
       "      <td>9.3</td>\n",
       "    </tr>\n",
       "    <tr>\n",
       "      <th>3</th>\n",
       "      <td>151.5</td>\n",
       "      <td>41.3</td>\n",
       "      <td>58.5</td>\n",
       "      <td>18.5</td>\n",
       "    </tr>\n",
       "    <tr>\n",
       "      <th>4</th>\n",
       "      <td>180.8</td>\n",
       "      <td>10.8</td>\n",
       "      <td>58.4</td>\n",
       "      <td>12.9</td>\n",
       "    </tr>\n",
       "    <tr>\n",
       "      <th>...</th>\n",
       "      <td>...</td>\n",
       "      <td>...</td>\n",
       "      <td>...</td>\n",
       "      <td>...</td>\n",
       "    </tr>\n",
       "    <tr>\n",
       "      <th>195</th>\n",
       "      <td>38.2</td>\n",
       "      <td>3.7</td>\n",
       "      <td>13.8</td>\n",
       "      <td>7.6</td>\n",
       "    </tr>\n",
       "    <tr>\n",
       "      <th>196</th>\n",
       "      <td>94.2</td>\n",
       "      <td>4.9</td>\n",
       "      <td>8.1</td>\n",
       "      <td>9.7</td>\n",
       "    </tr>\n",
       "    <tr>\n",
       "      <th>197</th>\n",
       "      <td>177.0</td>\n",
       "      <td>9.3</td>\n",
       "      <td>6.4</td>\n",
       "      <td>12.8</td>\n",
       "    </tr>\n",
       "    <tr>\n",
       "      <th>198</th>\n",
       "      <td>283.6</td>\n",
       "      <td>42.0</td>\n",
       "      <td>66.2</td>\n",
       "      <td>25.5</td>\n",
       "    </tr>\n",
       "    <tr>\n",
       "      <th>199</th>\n",
       "      <td>232.1</td>\n",
       "      <td>8.6</td>\n",
       "      <td>8.7</td>\n",
       "      <td>13.4</td>\n",
       "    </tr>\n",
       "  </tbody>\n",
       "</table>\n",
       "<p>200 rows × 4 columns</p>\n",
       "</div>"
      ],
      "text/plain": [
       "        TV  Radio  Newspaper  Sales\n",
       "0    230.1   37.8       69.2   22.1\n",
       "1     44.5   39.3       45.1   10.4\n",
       "2     17.2   45.9       69.3    9.3\n",
       "3    151.5   41.3       58.5   18.5\n",
       "4    180.8   10.8       58.4   12.9\n",
       "..     ...    ...        ...    ...\n",
       "195   38.2    3.7       13.8    7.6\n",
       "196   94.2    4.9        8.1    9.7\n",
       "197  177.0    9.3        6.4   12.8\n",
       "198  283.6   42.0       66.2   25.5\n",
       "199  232.1    8.6        8.7   13.4\n",
       "\n",
       "[200 rows x 4 columns]"
      ]
     },
     "execution_count": 4,
     "metadata": {},
     "output_type": "execute_result"
    }
   ],
   "source": [
    "#Observe the data set: X1 = TV , X2 = Radio , X3 = Newspaper , Y = Sales (Target Variable)\n",
    "advertising"
   ]
  },
  {
   "cell_type": "code",
   "execution_count": 5,
   "metadata": {},
   "outputs": [
    {
     "name": "stdout",
     "output_type": "stream",
     "text": [
      "<class 'pandas.core.frame.DataFrame'>\n",
      "RangeIndex: 200 entries, 0 to 199\n",
      "Data columns (total 4 columns):\n",
      " #   Column     Non-Null Count  Dtype  \n",
      "---  ------     --------------  -----  \n",
      " 0   TV         200 non-null    float64\n",
      " 1   Radio      200 non-null    float64\n",
      " 2   Newspaper  200 non-null    float64\n",
      " 3   Sales      200 non-null    float64\n",
      "dtypes: float64(4)\n",
      "memory usage: 6.4 KB\n"
     ]
    }
   ],
   "source": [
    "advertising.info()"
   ]
  },
  {
   "cell_type": "code",
   "execution_count": 6,
   "metadata": {},
   "outputs": [
    {
     "data": {
      "text/html": [
       "<div>\n",
       "<style scoped>\n",
       "    .dataframe tbody tr th:only-of-type {\n",
       "        vertical-align: middle;\n",
       "    }\n",
       "\n",
       "    .dataframe tbody tr th {\n",
       "        vertical-align: top;\n",
       "    }\n",
       "\n",
       "    .dataframe thead th {\n",
       "        text-align: right;\n",
       "    }\n",
       "</style>\n",
       "<table border=\"1\" class=\"dataframe\">\n",
       "  <thead>\n",
       "    <tr style=\"text-align: right;\">\n",
       "      <th></th>\n",
       "      <th>TV</th>\n",
       "      <th>Radio</th>\n",
       "      <th>Newspaper</th>\n",
       "      <th>Sales</th>\n",
       "    </tr>\n",
       "  </thead>\n",
       "  <tbody>\n",
       "    <tr>\n",
       "      <th>count</th>\n",
       "      <td>200.000000</td>\n",
       "      <td>200.000000</td>\n",
       "      <td>200.000000</td>\n",
       "      <td>200.000000</td>\n",
       "    </tr>\n",
       "    <tr>\n",
       "      <th>mean</th>\n",
       "      <td>147.042500</td>\n",
       "      <td>23.264000</td>\n",
       "      <td>30.554000</td>\n",
       "      <td>14.022500</td>\n",
       "    </tr>\n",
       "    <tr>\n",
       "      <th>std</th>\n",
       "      <td>85.854236</td>\n",
       "      <td>14.846809</td>\n",
       "      <td>21.778621</td>\n",
       "      <td>5.217457</td>\n",
       "    </tr>\n",
       "    <tr>\n",
       "      <th>min</th>\n",
       "      <td>0.700000</td>\n",
       "      <td>0.000000</td>\n",
       "      <td>0.300000</td>\n",
       "      <td>1.600000</td>\n",
       "    </tr>\n",
       "    <tr>\n",
       "      <th>25%</th>\n",
       "      <td>74.375000</td>\n",
       "      <td>9.975000</td>\n",
       "      <td>12.750000</td>\n",
       "      <td>10.375000</td>\n",
       "    </tr>\n",
       "    <tr>\n",
       "      <th>50%</th>\n",
       "      <td>149.750000</td>\n",
       "      <td>22.900000</td>\n",
       "      <td>25.750000</td>\n",
       "      <td>12.900000</td>\n",
       "    </tr>\n",
       "    <tr>\n",
       "      <th>75%</th>\n",
       "      <td>218.825000</td>\n",
       "      <td>36.525000</td>\n",
       "      <td>45.100000</td>\n",
       "      <td>17.400000</td>\n",
       "    </tr>\n",
       "    <tr>\n",
       "      <th>max</th>\n",
       "      <td>296.400000</td>\n",
       "      <td>49.600000</td>\n",
       "      <td>114.000000</td>\n",
       "      <td>27.000000</td>\n",
       "    </tr>\n",
       "  </tbody>\n",
       "</table>\n",
       "</div>"
      ],
      "text/plain": [
       "               TV       Radio   Newspaper       Sales\n",
       "count  200.000000  200.000000  200.000000  200.000000\n",
       "mean   147.042500   23.264000   30.554000   14.022500\n",
       "std     85.854236   14.846809   21.778621    5.217457\n",
       "min      0.700000    0.000000    0.300000    1.600000\n",
       "25%     74.375000    9.975000   12.750000   10.375000\n",
       "50%    149.750000   22.900000   25.750000   12.900000\n",
       "75%    218.825000   36.525000   45.100000   17.400000\n",
       "max    296.400000   49.600000  114.000000   27.000000"
      ]
     },
     "execution_count": 6,
     "metadata": {},
     "output_type": "execute_result"
    }
   ],
   "source": [
    "advertising.describe()   # only works on the numerical features"
   ]
  },
  {
   "cell_type": "code",
   "execution_count": 7,
   "metadata": {},
   "outputs": [
    {
     "data": {
      "text/plain": [
       "<seaborn.axisgrid.PairGrid at 0x2739b650dc0>"
      ]
     },
     "execution_count": 7,
     "metadata": {},
     "output_type": "execute_result"
    },
    {
     "data": {
      "image/png": "[encoded data removed]",
      "text/plain": [
       "<Figure size 1500x500 with 3 Axes>"
      ]
     },
     "metadata": {},
     "output_type": "display_data"
    }
   ],
   "source": [
    "#Visualisation\n",
    "\n",
    "sns.pairplot(advertising, x_vars = ['TV', 'Radio', 'Newspaper'], y_vars = 'Sales', size = 5, kind = 'scatter')"
   ]
  },
  {
   "cell_type": "code",
   "execution_count": 8,
   "metadata": {},
   "outputs": [
    {
     "data": {
      "image/png": "[encoded data removed]",
      "text/plain": [
       "<Figure size 640x480 with 2 Axes>"
      ]
     },
     "metadata": {},
     "output_type": "display_data"
    }
   ],
   "source": [
    "#Analyzing correlation with help of heatmap\n",
    "\n",
    "sns.heatmap(advertising.corr(), cmap = \"YlGnBu\", annot = True)\n",
    "plt.show()"
   ]
  },
  {
   "cell_type": "code",
   "execution_count": 9,
   "metadata": {},
   "outputs": [],
   "source": [
    "# Analyzing multcollinearity\n",
    "from statsmodels.stats.outliers_influence import variance_inflation_factor\n",
    "X_new = advertising[['TV','Newspaper','Radio']]"
   ]
  },
  {
   "cell_type": "code",
   "execution_count": 10,
   "metadata": {},
   "outputs": [
    {
     "data": {
      "text/html": [
       "<div>\n",
       "<style scoped>\n",
       "    .dataframe tbody tr th:only-of-type {\n",
       "        vertical-align: middle;\n",
       "    }\n",
       "\n",
       "    .dataframe tbody tr th {\n",
       "        vertical-align: top;\n",
       "    }\n",
       "\n",
       "    .dataframe thead th {\n",
       "        text-align: right;\n",
       "    }\n",
       "</style>\n",
       "<table border=\"1\" class=\"dataframe\">\n",
       "  <thead>\n",
       "    <tr style=\"text-align: right;\">\n",
       "      <th></th>\n",
       "      <th>TV</th>\n",
       "      <th>Newspaper</th>\n",
       "      <th>Radio</th>\n",
       "    </tr>\n",
       "  </thead>\n",
       "  <tbody>\n",
       "    <tr>\n",
       "      <th>0</th>\n",
       "      <td>230.1</td>\n",
       "      <td>69.2</td>\n",
       "      <td>37.8</td>\n",
       "    </tr>\n",
       "    <tr>\n",
       "      <th>1</th>\n",
       "      <td>44.5</td>\n",
       "      <td>45.1</td>\n",
       "      <td>39.3</td>\n",
       "    </tr>\n",
       "    <tr>\n",
       "      <th>2</th>\n",
       "      <td>17.2</td>\n",
       "      <td>69.3</td>\n",
       "      <td>45.9</td>\n",
       "    </tr>\n",
       "    <tr>\n",
       "      <th>3</th>\n",
       "      <td>151.5</td>\n",
       "      <td>58.5</td>\n",
       "      <td>41.3</td>\n",
       "    </tr>\n",
       "    <tr>\n",
       "      <th>4</th>\n",
       "      <td>180.8</td>\n",
       "      <td>58.4</td>\n",
       "      <td>10.8</td>\n",
       "    </tr>\n",
       "    <tr>\n",
       "      <th>...</th>\n",
       "      <td>...</td>\n",
       "      <td>...</td>\n",
       "      <td>...</td>\n",
       "    </tr>\n",
       "    <tr>\n",
       "      <th>195</th>\n",
       "      <td>38.2</td>\n",
       "      <td>13.8</td>\n",
       "      <td>3.7</td>\n",
       "    </tr>\n",
       "    <tr>\n",
       "      <th>196</th>\n",
       "      <td>94.2</td>\n",
       "      <td>8.1</td>\n",
       "      <td>4.9</td>\n",
       "    </tr>\n",
       "    <tr>\n",
       "      <th>197</th>\n",
       "      <td>177.0</td>\n",
       "      <td>6.4</td>\n",
       "      <td>9.3</td>\n",
       "    </tr>\n",
       "    <tr>\n",
       "      <th>198</th>\n",
       "      <td>283.6</td>\n",
       "      <td>66.2</td>\n",
       "      <td>42.0</td>\n",
       "    </tr>\n",
       "    <tr>\n",
       "      <th>199</th>\n",
       "      <td>232.1</td>\n",
       "      <td>8.7</td>\n",
       "      <td>8.6</td>\n",
       "    </tr>\n",
       "  </tbody>\n",
       "</table>\n",
       "<p>200 rows × 3 columns</p>\n",
       "</div>"
      ],
      "text/plain": [
       "        TV  Newspaper  Radio\n",
       "0    230.1       69.2   37.8\n",
       "1     44.5       45.1   39.3\n",
       "2     17.2       69.3   45.9\n",
       "3    151.5       58.5   41.3\n",
       "4    180.8       58.4   10.8\n",
       "..     ...        ...    ...\n",
       "195   38.2       13.8    3.7\n",
       "196   94.2        8.1    4.9\n",
       "197  177.0        6.4    9.3\n",
       "198  283.6       66.2   42.0\n",
       "199  232.1        8.7    8.6\n",
       "\n",
       "[200 rows x 3 columns]"
      ]
     },
     "execution_count": 10,
     "metadata": {},
     "output_type": "execute_result"
    }
   ],
   "source": [
    "X_new"
   ]
  },
  {
   "cell_type": "code",
   "execution_count": 11,
   "metadata": {},
   "outputs": [
    {
     "data": {
      "text/html": [
       "<div>\n",
       "<style scoped>\n",
       "    .dataframe tbody tr th:only-of-type {\n",
       "        vertical-align: middle;\n",
       "    }\n",
       "\n",
       "    .dataframe tbody tr th {\n",
       "        vertical-align: top;\n",
       "    }\n",
       "\n",
       "    .dataframe thead th {\n",
       "        text-align: right;\n",
       "    }\n",
       "</style>\n",
       "<table border=\"1\" class=\"dataframe\">\n",
       "  <thead>\n",
       "    <tr style=\"text-align: right;\">\n",
       "      <th></th>\n",
       "      <th>feature</th>\n",
       "    </tr>\n",
       "  </thead>\n",
       "  <tbody>\n",
       "    <tr>\n",
       "      <th>0</th>\n",
       "      <td>TV</td>\n",
       "    </tr>\n",
       "    <tr>\n",
       "      <th>1</th>\n",
       "      <td>Newspaper</td>\n",
       "    </tr>\n",
       "    <tr>\n",
       "      <th>2</th>\n",
       "      <td>Radio</td>\n",
       "    </tr>\n",
       "  </tbody>\n",
       "</table>\n",
       "</div>"
      ],
      "text/plain": [
       "     feature\n",
       "0         TV\n",
       "1  Newspaper\n",
       "2      Radio"
      ]
     },
     "execution_count": 11,
     "metadata": {},
     "output_type": "execute_result"
    }
   ],
   "source": [
    "vif_data = pd.DataFrame()\n",
    "vif_data[\"feature\"] = X_new.columns\n",
    "vif_data"
   ]
  },
  {
   "cell_type": "code",
   "execution_count": 13,
   "metadata": {},
   "outputs": [
    {
     "name": "stdout",
     "output_type": "stream",
     "text": [
      "     feature       VIF\n",
      "0         TV  2.486772\n",
      "1  Newspaper  3.055245\n",
      "2      Radio  3.285462\n"
     ]
    }
   ],
   "source": [
    "# calculating VIF for each feature\n",
    "vif_data[\"VIF\"] = [variance_inflation_factor(X_new, i)\n",
    "                          for i in range(3)]\n",
    "  \n",
    "print(vif_data)"
   ]
  },
  {
   "cell_type": "code",
   "execution_count": 14,
   "metadata": {},
   "outputs": [],
   "source": [
    "vif_data['Multicolinear']=['yes' if vif_data['VIF'][i]>5 else 'no' for i in range(3)]"
   ]
  },
  {
   "cell_type": "code",
   "execution_count": 17,
   "metadata": {},
   "outputs": [
    {
     "data": {
      "text/html": [
       "<div>\n",
       "<style scoped>\n",
       "    .dataframe tbody tr th:only-of-type {\n",
       "        vertical-align: middle;\n",
       "    }\n",
       "\n",
       "    .dataframe tbody tr th {\n",
       "        vertical-align: top;\n",
       "    }\n",
       "\n",
       "    .dataframe thead th {\n",
       "        text-align: right;\n",
       "    }\n",
       "</style>\n",
       "<table border=\"1\" class=\"dataframe\">\n",
       "  <thead>\n",
       "    <tr style=\"text-align: right;\">\n",
       "      <th></th>\n",
       "      <th>feature</th>\n",
       "      <th>VIF</th>\n",
       "      <th>Multicolinear</th>\n",
       "    </tr>\n",
       "  </thead>\n",
       "  <tbody>\n",
       "    <tr>\n",
       "      <th>0</th>\n",
       "      <td>TV</td>\n",
       "      <td>2.486772</td>\n",
       "      <td>no</td>\n",
       "    </tr>\n",
       "    <tr>\n",
       "      <th>1</th>\n",
       "      <td>Newspaper</td>\n",
       "      <td>3.055245</td>\n",
       "      <td>no</td>\n",
       "    </tr>\n",
       "    <tr>\n",
       "      <th>2</th>\n",
       "      <td>Radio</td>\n",
       "      <td>3.285462</td>\n",
       "      <td>no</td>\n",
       "    </tr>\n",
       "  </tbody>\n",
       "</table>\n",
       "</div>"
      ],
      "text/plain": [
       "     feature       VIF Multicolinear\n",
       "0         TV  2.486772            no\n",
       "1  Newspaper  3.055245            no\n",
       "2      Radio  3.285462            no"
      ]
     },
     "execution_count": 17,
     "metadata": {},
     "output_type": "execute_result"
    }
   ],
   "source": [
    "vif_data"
   ]
  },
  {
   "cell_type": "code",
   "execution_count": 15,
   "metadata": {},
   "outputs": [],
   "source": [
    "## defining the independent and dependent variables in the dataset.\n",
    "#Presently working only with one independent variable 'TV'\n",
    "\n",
    "#When the model is based on one independent variable it results in Simple Linear regression Model\n",
    "\n",
    "X = advertising['TV']\n",
    "y = advertising['Sales']"
   ]
  },
  {
   "cell_type": "code",
   "execution_count": 16,
   "metadata": {},
   "outputs": [],
   "source": [
    "#Splitting the data into Train and Test (with split ratio = 70-30)\n",
    "X_train, X_test, y_train, y_test = train_test_split(X, y, \n",
    "                                                    train_size = 0.7,\n",
    "                                                    test_size = 0.3,\n",
    "                                                    random_state = 5)"
   ]
  },
  {
   "cell_type": "code",
   "execution_count": 17,
   "metadata": {},
   "outputs": [
    {
     "data": {
      "text/plain": [
       "170     50.0\n",
       "182     56.2\n",
       "59     210.7\n",
       "185    205.0\n",
       "12      23.8\n",
       "       ...  \n",
       "73     129.4\n",
       "144     96.2\n",
       "118    125.7\n",
       "189     18.7\n",
       "99     135.2\n",
       "Name: TV, Length: 140, dtype: float64"
      ]
     },
     "execution_count": 17,
     "metadata": {},
     "output_type": "execute_result"
    }
   ],
   "source": [
    "X_train"
   ]
  },
  {
   "cell_type": "code",
   "execution_count": 18,
   "metadata": {},
   "outputs": [
    {
     "data": {
      "text/plain": [
       "pandas.core.series.Series"
      ]
     },
     "execution_count": 18,
     "metadata": {},
     "output_type": "execute_result"
    }
   ],
   "source": [
    "type(X_train)"
   ]
  },
  {
   "cell_type": "code",
   "execution_count": 19,
   "metadata": {},
   "outputs": [
    {
     "data": {
      "text/plain": [
       "(140,)"
      ]
     },
     "execution_count": 19,
     "metadata": {},
     "output_type": "execute_result"
    }
   ],
   "source": [
    "X_train.shape"
   ]
  },
  {
   "cell_type": "code",
   "execution_count": 20,
   "metadata": {},
   "outputs": [],
   "source": [
    "X_train =  X_train.values.reshape(-1,1)     #you want to convert the data in single column\n",
    "X_test = X_test.values.reshape(-1,1)\n",
    "\n",
    "#Y is by default a single column only! \n",
    "#X being the indpendent variable can have more than one column,so in order to convert it to a single column array\n",
    "# we reshape it"
   ]
  },
  {
   "cell_type": "code",
   "execution_count": 21,
   "metadata": {},
   "outputs": [
    {
     "data": {
      "text/plain": [
       "numpy.ndarray"
      ]
     },
     "execution_count": 21,
     "metadata": {},
     "output_type": "execute_result"
    }
   ],
   "source": [
    "type(X_train)"
   ]
  },
  {
   "cell_type": "code",
   "execution_count": 22,
   "metadata": {},
   "outputs": [
    {
     "data": {
      "text/plain": [
       "(140, 1)"
      ]
     },
     "execution_count": 22,
     "metadata": {},
     "output_type": "execute_result"
    }
   ],
   "source": [
    "X_train.shape"
   ]
  },
  {
   "cell_type": "code",
   "execution_count": 23,
   "metadata": {},
   "outputs": [
    {
     "data": {
      "text/plain": [
       "array([[ 50. ],\n",
       "       [ 56.2],\n",
       "       [210.7],\n",
       "       [205. ],\n",
       "       [ 23.8],\n",
       "       [213.4],\n",
       "       [141.3],\n",
       "       [248.4],\n",
       "       [147.3],\n",
       "       [136.2],\n",
       "       [ 31.5],\n",
       "       [ 43. ],\n",
       "       [102.7],\n",
       "       [ 25.6],\n",
       "       [296.4],\n",
       "       [109.8],\n",
       "       [195.4],\n",
       "       [170.2],\n",
       "       [ 66.1],\n",
       "       [197.6],\n",
       "       [232.1],\n",
       "       [168.4],\n",
       "       [266.9],\n",
       "       [163.3],\n",
       "       [180.8],\n",
       "       [289.7],\n",
       "       [110.7],\n",
       "       [ 68.4],\n",
       "       [215.4],\n",
       "       [ 75.5],\n",
       "       [239.8],\n",
       "       [241.7],\n",
       "       [ 17.2],\n",
       "       [276.7],\n",
       "       [ 97.5],\n",
       "       [280.7],\n",
       "       [  0.7],\n",
       "       [ 26.8],\n",
       "       [ 66.9],\n",
       "       [218.4],\n",
       "       [290.7],\n",
       "       [199.1],\n",
       "       [116. ],\n",
       "       [217.7],\n",
       "       [184.9],\n",
       "       [ 88.3],\n",
       "       [ 70.6],\n",
       "       [140.3],\n",
       "       [ 53.5],\n",
       "       [ 80.2],\n",
       "       [216.8],\n",
       "       [216.4],\n",
       "       [ 13.2],\n",
       "       [149.8],\n",
       "       [284.3],\n",
       "       [ 16.9],\n",
       "       [220.3],\n",
       "       [ 74.7],\n",
       "       [287.6],\n",
       "       [134.3],\n",
       "       [149.7],\n",
       "       [131.1],\n",
       "       [ 73.4],\n",
       "       [165.6],\n",
       "       [283.6],\n",
       "       [164.5],\n",
       "       [206.8],\n",
       "       [ 75.3],\n",
       "       [184.9],\n",
       "       [ 27.5],\n",
       "       [ 97.2],\n",
       "       [139.5],\n",
       "       [177. ],\n",
       "       [219.8],\n",
       "       [239.9],\n",
       "       [166.8],\n",
       "       [199.8],\n",
       "       [ 85.7],\n",
       "       [204.1],\n",
       "       [107.4],\n",
       "       [ 67.8],\n",
       "       [171.3],\n",
       "       [193.2],\n",
       "       [265.6],\n",
       "       [  5.4],\n",
       "       [ 28.6],\n",
       "       [265.2],\n",
       "       [229.5],\n",
       "       [139.3],\n",
       "       [214.7],\n",
       "       [255.4],\n",
       "       [ 13.1],\n",
       "       [222.4],\n",
       "       [ 48.3],\n",
       "       [191.1],\n",
       "       [ 69.2],\n",
       "       [243.2],\n",
       "       [163.5],\n",
       "       [ 43.1],\n",
       "       [237.4],\n",
       "       [ 17.2],\n",
       "       [112.9],\n",
       "       [253.8],\n",
       "       [137.9],\n",
       "       [117.2],\n",
       "       [225.8],\n",
       "       [  8.4],\n",
       "       [230.1],\n",
       "       [210.8],\n",
       "       [  8.7],\n",
       "       [ 94.2],\n",
       "       [187.9],\n",
       "       [ 59.6],\n",
       "       [177. ],\n",
       "       [ 25. ],\n",
       "       [273.7],\n",
       "       [ 18.8],\n",
       "       [240.1],\n",
       "       [ 87.2],\n",
       "       [ 76.3],\n",
       "       [292.9],\n",
       "       [276.9],\n",
       "       [ 69. ],\n",
       "       [ 25.1],\n",
       "       [240.1],\n",
       "       [ 76.4],\n",
       "       [218.5],\n",
       "       [209.6],\n",
       "       [104.6],\n",
       "       [120.2],\n",
       "       [ 11.7],\n",
       "       [175.7],\n",
       "       [  4.1],\n",
       "       [ 39.5],\n",
       "       [  8.6],\n",
       "       [129.4],\n",
       "       [ 96.2],\n",
       "       [125.7],\n",
       "       [ 18.7],\n",
       "       [135.2]])"
      ]
     },
     "execution_count": 23,
     "metadata": {},
     "output_type": "execute_result"
    }
   ],
   "source": [
    "X_train"
   ]
  },
  {
   "cell_type": "code",
   "execution_count": 26,
   "metadata": {},
   "outputs": [],
   "source": [
    "from sklearn.preprocessing import StandardScaler  #minmaxscaler\n",
    "ss = StandardScaler()\n",
    "X_train = ss.fit_transform(X_train)  #140\n",
    "X_test = ss.transform(X_test)         #60\n",
    "\n",
    "#Data Leakage:\n",
    "# Q.1 Can we scale the data before split?\n",
    "# Q.2 Why only transform is used for test data rather than fit_transform?"
   ]
  },
  {
   "cell_type": "code",
   "execution_count": 25,
   "metadata": {},
   "outputs": [
    {
     "data": {
      "text/plain": [
       "array([[-1.43983498],\n",
       "       [-0.26559386],\n",
       "       [-1.22380249],\n",
       "       [-1.14598433],\n",
       "       [ 0.51607209],\n",
       "       [-0.25978654],\n",
       "       [ 0.93652242],\n",
       "       [-0.99731681],\n",
       "       [ 1.22456574],\n",
       "       [-0.38987062],\n",
       "       [ 1.65663072],\n",
       "       [-0.55363718],\n",
       "       [ 1.09215873],\n",
       "       [ 0.68680744],\n",
       "       [ 0.6449947 ],\n",
       "       [ 1.10145045],\n",
       "       [ 0.09446029],\n",
       "       [ 0.98298102],\n",
       "       [-0.77779993],\n",
       "       [-1.2365786 ],\n",
       "       [ 0.153695  ],\n",
       "       [-0.0054257 ],\n",
       "       [ 1.38600937],\n",
       "       [ 1.05847624],\n",
       "       [ 0.45567591],\n",
       "       [ 1.2489565 ],\n",
       "       [ 0.91793898],\n",
       "       [ 1.60320333],\n",
       "       [-1.58037224],\n",
       "       [ 0.81456859],\n",
       "       [ 1.3883323 ],\n",
       "       [-0.57454355],\n",
       "       [ 1.74490206],\n",
       "       [ 0.58459852],\n",
       "       [ 0.65544789],\n",
       "       [-0.49904833],\n",
       "       [-1.22147956],\n",
       "       [-0.04839991],\n",
       "       [ 0.89587114],\n",
       "       [-0.94156649],\n",
       "       [-0.13550978],\n",
       "       [ 1.11422656],\n",
       "       [-1.45725695],\n",
       "       [ 0.36856603],\n",
       "       [ 0.98646541],\n",
       "       [-1.14830726],\n",
       "       [ 0.52304088],\n",
       "       [ 0.9736893 ],\n",
       "       [ 0.33836794],\n",
       "       [-1.57456492],\n",
       "       [-0.23539577],\n",
       "       [-0.61519483],\n",
       "       [ 0.7379119 ],\n",
       "       [ 0.62989566],\n",
       "       [-0.75689356],\n",
       "       [-0.62332508],\n",
       "       [-1.43751205],\n",
       "       [ 1.58926575],\n",
       "       [ 1.36974886],\n",
       "       [-0.79289897]])"
      ]
     },
     "execution_count": 25,
     "metadata": {},
     "output_type": "execute_result"
    }
   ],
   "source": [
    "X_test"
   ]
  },
  {
   "cell_type": "code",
   "execution_count": 37,
   "metadata": {},
   "outputs": [],
   "source": [
    "# Instantiating the LinearRegression() model\n",
    "\n",
    "lm = LinearRegression()    #instatiation"
   ]
  },
  {
   "cell_type": "code",
   "execution_count": 38,
   "metadata": {},
   "outputs": [
    {
     "name": "stdout",
     "output_type": "stream",
     "text": [
      "13.948571428571428\n",
      "[4.3258742]\n"
     ]
    }
   ],
   "source": [
    "#Fitting the model and getting the parameter values:\n",
    "\n",
    "#Model training\n",
    "\n",
    "lm.fit(X_train, y_train)\n",
    "print(lm.intercept_)   #constant\n",
    "print(lm.coef_)    #slope  #regression coefficient. # m\n",
    "\n",
    "#lm.get_params\n"
   ]
  },
  {
   "cell_type": "code",
   "execution_count": 39,
   "metadata": {},
   "outputs": [],
   "source": [
    "#Finding the predicted values of Y\n",
    "\n",
    "#Model Inferencing\n",
    "\n",
    "y_train_pred = lm.predict(X_train)    #Y_pred_train, Ytrain\n",
    "y_test_pred = lm.predict(X_test)      #Y_pred_test, Ytest"
   ]
  },
  {
   "cell_type": "code",
   "execution_count": 33,
   "metadata": {},
   "outputs": [
    {
     "name": "stdout",
     "output_type": "stream",
     "text": [
      "0.6411433688483876\n",
      "0.5111616978794153\n"
     ]
    }
   ],
   "source": [
    "#Calculating the metric for training and testing dataset\n",
    "\n",
    "#Model Evaluation\n",
    "print(r2_score(y_train, y_train_pred))\n",
    "print(r2_score(y_test, y_test_pred))"
   ]
  },
  {
   "cell_type": "code",
   "execution_count": 34,
   "metadata": {},
   "outputs": [
    {
     "data": {
      "image/png": "[encoded data removed]",
      "text/plain": [
       "<Figure size 640x480 with 1 Axes>"
      ]
     },
     "metadata": {},
     "output_type": "display_data"
    }
   ],
   "source": [
    "#y_pred = m*X_test + c\n",
    "#y_pred = 0.6411*X_test + 0.51116\n",
    "\n",
    "plt.scatter(X_test, y_test)\n",
    "\n",
    "plt.plot(X_test, 13.9485714 + 4.3258742 * X_test, 'r')   #slope*X + constant\n",
    "plt.show()"
   ]
  },
  {
   "cell_type": "code",
   "execution_count": 35,
   "metadata": {},
   "outputs": [
    {
     "name": "stdout",
     "output_type": "stream",
     "text": [
      "0.8997682984995\n",
      "0.8868821951328664\n"
     ]
    }
   ],
   "source": [
    "# Multiple Linear Regression model (with more than 1 independent variables)\n",
    "\n",
    "feature_cols = ['TV', 'Radio', 'Newspaper']\n",
    "X_all = advertising[feature_cols]    #advertising[['TV','Radio','Newspaper']]\n",
    "y = advertising.Sales                #it can be written as advertising['Sales']\n",
    "\n",
    "# Train_test_split the new data\n",
    "X_all_train, X_all_test, y_train, y_test = train_test_split(X_all, y, train_size = 0.7, test_size = 0.3, random_state = 5)\n",
    "\n",
    "# instantiate and fit\n",
    "lm2 = LinearRegression()\n",
    "lm2.fit(X_all_train, y_train)\n",
    "\n",
    "# Prediction of target variable\n",
    "y_train_pred = lm2.predict(X_all_train)\n",
    "y_test_pred = lm2.predict(X_all_test)\n",
    "\n",
    "print(r2_score(y_train, y_train_pred))\n",
    "print(r2_score(y_test, y_test_pred))"
   ]
  },
  {
   "cell_type": "code",
   "execution_count": null,
   "metadata": {},
   "outputs": [],
   "source": [
    "#Assignment\n",
    "\n",
    "#1. To calculate the Evaluation Metrics at one place for both the models above(Adj R2, RMSE)\n",
    "\n",
    "#sklearn.metrics.mean_squared_error (use this method to calculate RMSE)"
   ]
  },
  {
   "cell_type": "code",
   "execution_count": 42,
   "metadata": {},
   "outputs": [
    {
     "name": "stdout",
     "output_type": "stream",
     "text": [
      "r square 0.5111616978794153\n",
      "adj_r sqr 0.4849739316943841\n",
      "mean sqr error 10.822786314941839\n",
      "root mean sqr error 3.2898003457568423\n"
     ]
    }
   ],
   "source": [
    "from sklearn.metrics import r2_score, mean_squared_error\n",
    "\n",
    "def cal_adjusted_r2(y_predicted, y_expected, no_predictor_var):\n",
    "    n = len(y_expected)\n",
    "    k = no_predictor_var\n",
    "    r_2 = r2_score(y_expected, y_predicted)\n",
    "    print('r square', r_2)\n",
    "    tolerance = 1 - r_2\n",
    "    adj_r_2 = 1 - tolerance*(n-1)/(n-k-1)\n",
    "    return adj_r_2\n",
    "\n",
    "print('adj_r sqr',cal_adjusted_r2(y_test_pred,y_test,len(feature_cols)))\n",
    "\n",
    "def cal_root_mean_sqr_err(y_predicted, y_expected):\n",
    "    msr = mean_squared_error(y_expected,y_predicted)\n",
    "    print('mean sqr error', msr)\n",
    "    return msr**(.5)\n",
    "\n",
    "print('root mean sqr error', cal_root_mean_sqr_err(y_test_pred,y_test))\n",
    "\n",
    "    "
   ]
  }
 ],
 "metadata": {
  "kernelspec": {
   "display_name": "Python 3 (ipykernel)",
   "language": "python",
   "name": "python3"
  },
  "language_info": {
   "codemirror_mode": {
    "name": "ipython",
    "version": 3
   },
   "file_extension": ".py",
   "mimetype": "text/x-python",
   "name": "python",
   "nbconvert_exporter": "python",
   "pygments_lexer": "ipython3",
   "version": "3.9.13"
  }
 },
 "nbformat": 4,
 "nbformat_minor": 2
}
