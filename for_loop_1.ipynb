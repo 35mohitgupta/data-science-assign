{
 "cells": [
  {
   "cell_type": "code",
   "execution_count": 2,
   "id": "60ff1f2f",
   "metadata": {},
   "outputs": [
    {
     "name": "stdout",
     "output_type": "stream",
     "text": [
      "[1505, 1540, 1575, 1610, 1645, 1680, 1715, 1750, 1785, 1820, 1855, 1890, 1925, 1960, 1995, 2030, 2065, 2100, 2135, 2170, 2205, 2240, 2275, 2310, 2345, 2380, 2415, 2450, 2485, 2520, 2555, 2590, 2625, 2660, 2695]\n",
      "[1505, 1540, 1575, 1610, 1645, 1680, 1715, 1750, 1785, 1820, 1855, 1890, 1925, 1960, 1995, 2030, 2065, 2100, 2135, 2170, 2205, 2240, 2275, 2310, 2345, 2380, 2415, 2450, 2485, 2520, 2555, 2590, 2625, 2660, 2695]\n"
     ]
    }
   ],
   "source": [
    "# Write a Python program to find those numbers which are divisible by 7 and\n",
    "# multiple of 5, between 1500 and 2700 (both included).\n",
    "\n",
    "incr = 35\n",
    "start = 1500\n",
    "for i in range(1500,1535):\n",
    "    if i%35 == 0:\n",
    "        start = i\n",
    "        break\n",
    "res = []\n",
    "cur = start\n",
    "while cur <= 2700:\n",
    "    res.append(cur)\n",
    "    cur += 35\n",
    "\n",
    "print(res)\n",
    "\n",
    "#  alternate\n",
    "print(list(range(start,2701,35)))"
   ]
  },
  {
   "cell_type": "code",
   "execution_count": 8,
   "id": "9c877038",
   "metadata": {},
   "outputs": [
    {
     "name": "stdout",
     "output_type": "stream",
     "text": [
      "Enter the fahrenheight-40\n",
      "celsius -40.0\n",
      "Enter the celsius-40\n",
      "fahrenheit -40.0\n"
     ]
    }
   ],
   "source": [
    "# Write a Python program to convert temperatures to and from celsius, fahrenheit.\n",
    "\n",
    "fahrenheit = float(input('Enter the fahrenheight'))\n",
    "\n",
    "celsius = (fahrenheit - 32) * 5/9\n",
    "\n",
    "print('celsius',celsius)\n",
    "\n",
    "celsius = float(input('Enter the celsius'))\n",
    "\n",
    "fahrenheit = (celsius * 9/5) + 32\n",
    "\n",
    "print('fahrenheit',fahrenheit)"
   ]
  },
  {
   "cell_type": "code",
   "execution_count": 10,
   "id": "b086fb16",
   "metadata": {},
   "outputs": [
    {
     "name": "stdout",
     "output_type": "stream",
     "text": [
      "Guess a number b/w 1 and 9: 5\n",
      "5\n"
     ]
    }
   ],
   "source": [
    "# Write a Python program to guess a number between 1 to 9.\n",
    "\n",
    "num = int(input(\"Guess a number b/w 1 and 9: \"))\n",
    "print(num)"
   ]
  },
  {
   "cell_type": "code",
   "execution_count": 3,
   "id": "b90154a8",
   "metadata": {},
   "outputs": [
    {
     "name": "stdout",
     "output_type": "stream",
     "text": [
      "5\n",
      "*\n",
      "**\n",
      "***\n",
      "****\n",
      "*****\n",
      "****\n",
      "***\n",
      "**\n",
      "*\n"
     ]
    }
   ],
   "source": [
    "# 4. Write a Python program to construct the following pattern, using a nested for loop.\n",
    "'''\n",
    "* \n",
    "* * \n",
    "* * * \n",
    "* * * * \n",
    "* * * * * \n",
    "* * * * \n",
    "* * * \n",
    "* * \n",
    "* \n",
    "'''\n",
    "\n",
    "sz = int(input())\n",
    "\n",
    "for i in range(1, sz+1):\n",
    "    print('*'*i)\n",
    "for i in range(sz-1,0,-1):\n",
    "    print('*'*i)\n"
   ]
  },
  {
   "cell_type": "code",
   "execution_count": 12,
   "id": "e59e9baa",
   "metadata": {},
   "outputs": [
    {
     "name": "stdout",
     "output_type": "stream",
     "text": [
      "tanisha\n",
      "ahsinat\n"
     ]
    }
   ],
   "source": [
    "# Write a Python program that accepts a word from the user and reverse it.\n",
    "\n",
    "inp = input()\n",
    "res = ''\n",
    "for i in inp:\n",
    "    res = i + res\n",
    "\n",
    "print(res)"
   ]
  },
  {
   "cell_type": "code",
   "execution_count": 14,
   "id": "0564c826",
   "metadata": {},
   "outputs": [
    {
     "name": "stdout",
     "output_type": "stream",
     "text": [
      "(1,5,3,4,3)\n",
      "even 1\n",
      "odd 4\n"
     ]
    }
   ],
   "source": [
    "# Write a Python program to count the number of even and odd numbers from a\n",
    "# series of numbers.\n",
    "\n",
    "inp = eval(input())\n",
    "countEven, countOdd = 0,0\n",
    "\n",
    "for i in inp:\n",
    "    if i%2 == 0:\n",
    "        countEven += 1\n",
    "    else:\n",
    "        countOdd += 1\n",
    "\n",
    "        \n",
    "print('even', countEven)\n",
    "print('odd', countOdd)"
   ]
  },
  {
   "cell_type": "code",
   "execution_count": 15,
   "id": "1031779f",
   "metadata": {},
   "outputs": [
    {
     "name": "stdout",
     "output_type": "stream",
     "text": [
      "1452 <class 'int'>\n",
      "11.23 <class 'float'>\n",
      "(1+2j) <class 'complex'>\n",
      "True <class 'bool'>\n",
      "w3resource <class 'str'>\n",
      "(0, 1) <class 'tuple'>\n",
      "[5, 12] <class 'list'>\n",
      "{'class': 'V', 'section': 'A'} <class 'dict'>\n"
     ]
    }
   ],
   "source": [
    "# Write a Python program that prints each item and its corresponding type from the\n",
    "# following list.\n",
    "\n",
    "datalist = [1452, 11.23, 1+2j, True, 'w3resource', (0,1), [5, 12], {\"class\":'V', \"section\":'A'}]\n",
    "\n",
    "for i in datalist:\n",
    "    print(i,type(i))"
   ]
  },
  {
   "cell_type": "code",
   "execution_count": 16,
   "id": "0e6e28c3",
   "metadata": {},
   "outputs": [
    {
     "name": "stdout",
     "output_type": "stream",
     "text": [
      "0, 1, 2, 4, 5, "
     ]
    }
   ],
   "source": [
    "# Write a Python program that prints all the numbers from 0 to 6 except 3 and 6.\n",
    "\n",
    "for i in range(7):\n",
    "    if i == 3 or i==6:\n",
    "        continue\n",
    "    print(i,end=', ')"
   ]
  },
  {
   "cell_type": "code",
   "execution_count": 19,
   "id": "61dc2e77",
   "metadata": {},
   "outputs": [
    {
     "name": "stdout",
     "output_type": "stream",
     "text": [
      "0\n",
      "1\n",
      "1\n",
      "2\n",
      "3\n",
      "5\n",
      "8\n",
      "13\n",
      "21\n",
      "34\n"
     ]
    }
   ],
   "source": [
    "# Write a Python program to get the Fibonacci series between 0 to 50.\n",
    "\n",
    "a,b = 0,1\n",
    "print(a)\n",
    "print(b)\n",
    "c= a+b\n",
    "while c <= 50:\n",
    "    print(c)\n",
    "    (a,b) = (b,c)\n",
    "    c = a+b"
   ]
  },
  {
   "cell_type": "code",
   "execution_count": 22,
   "id": "a43e7a2f",
   "metadata": {},
   "outputs": [
    {
     "name": "stdout",
     "output_type": "stream",
     "text": [
      "3 Fizz\n",
      "5 Buzz\n",
      "6 Fizz\n",
      "9 Fizz\n",
      "10 Buzz\n",
      "12 Fizz\n",
      "15 FizzBuzz\n",
      "18 Fizz\n",
      "20 Buzz\n",
      "21 Fizz\n",
      "24 Fizz\n",
      "25 Buzz\n",
      "27 Fizz\n",
      "30 FizzBuzz\n",
      "33 Fizz\n",
      "35 Buzz\n",
      "36 Fizz\n",
      "39 Fizz\n",
      "40 Buzz\n",
      "42 Fizz\n",
      "45 FizzBuzz\n",
      "48 Fizz\n",
      "50 Buzz\n"
     ]
    }
   ],
   "source": [
    "# Write a Python program which iterates the integers from 1 to 50. For multiples of three\n",
    "# print \"Fizz\" instead of the number and for the multiples of five print \"Buzz\". For numbers\n",
    "# which are multiples of both three and five print \"FizzBuzz\".\n",
    "\n",
    "\n",
    "for i in range(1,51):\n",
    "    if i % 15 == 0:\n",
    "        print(i,'FizzBuzz')\n",
    "    elif i%3 == 0:\n",
    "        print(i,'Fizz')\n",
    "    elif i%5 == 0:\n",
    "        print(i,'Buzz')"
   ]
  }
 ],
 "metadata": {
  "kernelspec": {
   "display_name": "Python 3 (ipykernel)",
   "language": "python",
   "name": "python3"
  },
  "language_info": {
   "codemirror_mode": {
    "name": "ipython",
    "version": 3
   },
   "file_extension": ".py",
   "mimetype": "text/x-python",
   "name": "python",
   "nbconvert_exporter": "python",
   "pygments_lexer": "ipython3",
   "version": "3.9.12"
  }
 },
 "nbformat": 4,
 "nbformat_minor": 5
}
