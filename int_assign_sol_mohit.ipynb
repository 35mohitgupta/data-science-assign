{
 "cells": [
  {
   "cell_type": "code",
   "execution_count": 2,
   "id": "57611427",
   "metadata": {},
   "outputs": [
    {
     "name": "stdout",
     "output_type": "stream",
     "text": [
      "3\n",
      "<class 'int'>\n",
      "140008814504304\n"
     ]
    }
   ],
   "source": [
    "a = 3\n",
    "print(a)\n",
    "print(type(a))\n",
    "print(id(a))"
   ]
  },
  {
   "cell_type": "code",
   "execution_count": 4,
   "id": "021f0135",
   "metadata": {},
   "outputs": [
    {
     "name": "stdout",
     "output_type": "stream",
     "text": [
      "140008814504528 140008814504528\n",
      "True\n"
     ]
    }
   ],
   "source": [
    "a = 10\n",
    "b = 10\n",
    "print(id(a), id(b))\n",
    "print(id(a) == id(b))"
   ]
  },
  {
   "cell_type": "code",
   "execution_count": 5,
   "id": "ccc28aa9",
   "metadata": {},
   "outputs": [
    {
     "name": "stdout",
     "output_type": "stream",
     "text": [
      "140008686816592 140008686816208\n",
      "False\n"
     ]
    }
   ],
   "source": [
    "a = 1111\n",
    "b = 1111\n",
    "print(id(a), id(b))\n",
    "print(id(a) == id(b))"
   ]
  },
  {
   "cell_type": "code",
   "execution_count": 10,
   "id": "8a4549d8",
   "metadata": {},
   "outputs": [
    {
     "name": "stdout",
     "output_type": "stream",
     "text": [
      "sum: 38\n",
      "difference: 32\n",
      "product: 105\n",
      "division: 11.666666666666666\n",
      "remainder: 2\n",
      "quotient (floor): 11\n",
      "power: 42875\n"
     ]
    }
   ],
   "source": [
    "a = 35\n",
    "b = 3\n",
    "print(\"sum:\", (a+b)) # sum\n",
    "print(\"difference:\", (a-b)) # diff\n",
    "print(\"product:\", (a*b)) # product\n",
    "print(\"division:\", (a/b)) # division\n",
    "print(\"remainder:\", (a%b)) # remainder\n",
    "print(\"quotient (floor):\", (a//b)) # quotient/floor\n",
    "print(\"power:\", (a**b)) # exponential"
   ]
  },
  {
   "cell_type": "code",
   "execution_count": 11,
   "id": "f53e7f5d",
   "metadata": {},
   "outputs": [
    {
     "name": "stdout",
     "output_type": "stream",
     "text": [
      "greater than: True\n",
      "smaller than: False\n",
      "greater than equal to: True\n",
      "smaller than equal to: False\n"
     ]
    }
   ],
   "source": [
    "a = 35\n",
    "b = 3\n",
    "print(\"greater than:\", (a > b)) # greater than\n",
    "print(\"smaller than:\", (a < b)) # smaller than\n",
    "print(\"greater than equal to:\", (a >= b)) # greater than equal to\n",
    "print(\"smaller than equal to:\", (a <= b)) # smaller than equal to"
   ]
  },
  {
   "cell_type": "code",
   "execution_count": 12,
   "id": "23989ae8",
   "metadata": {},
   "outputs": [
    {
     "name": "stdout",
     "output_type": "stream",
     "text": [
      "equal: False\n",
      "not equal: True\n"
     ]
    }
   ],
   "source": [
    "a = 35\n",
    "b = 3\n",
    "print(\"equal:\", (a == b)) # equal\n",
    "print(\"not equal:\", (a != b)) # not equal"
   ]
  },
  {
   "cell_type": "code",
   "execution_count": 13,
   "id": "e93c7ca6",
   "metadata": {},
   "outputs": [
    {
     "name": "stdout",
     "output_type": "stream",
     "text": [
      "10 and 20: 20\n",
      "0 and 20: 0\n",
      "20 and 0: 0\n",
      "0 and 0: 0\n"
     ]
    }
   ],
   "source": [
    "print(\"10 and 20:\", 10 and 20)\n",
    "print(\"0 and 20:\", 0 and 20)\n",
    "print(\"20 and 0:\", 20 and 0)\n",
    "print(\"0 and 0:\", 0 and 0)"
   ]
  },
  {
   "cell_type": "code",
   "execution_count": 14,
   "id": "84d0e433",
   "metadata": {},
   "outputs": [
    {
     "name": "stdout",
     "output_type": "stream",
     "text": [
      "10 or 20: 10\n",
      "0 or 20: 20\n",
      "20 or 0: 20\n",
      "0 or 0: 0\n"
     ]
    }
   ],
   "source": [
    "print(\"10 or 20:\", 10 or 20)\n",
    "print(\"0 or 20:\", 0 or 20)\n",
    "print(\"20 or 0:\", 20 or 0)\n",
    "print(\"0 or 0:\", 0 or 0)"
   ]
  },
  {
   "cell_type": "code",
   "execution_count": 15,
   "id": "e2d48a07",
   "metadata": {},
   "outputs": [
    {
     "name": "stdout",
     "output_type": "stream",
     "text": [
      "not 10: False\n",
      "not 0: True\n"
     ]
    }
   ],
   "source": [
    "print(\"not 10:\", (not 10))\n",
    "print(\"not 0:\", (not 0))"
   ]
  },
  {
   "cell_type": "code",
   "execution_count": 16,
   "id": "0c873249",
   "metadata": {},
   "outputs": [
    {
     "name": "stdout",
     "output_type": "stream",
     "text": [
      "10 & 20: 0\n",
      "10 | 20: 30\n",
      "10 ^ 20: 30\n",
      "~10: -11\n",
      "10 << 2: 40\n",
      "10 >> 2: 2\n"
     ]
    }
   ],
   "source": [
    "# bitwise operator\n",
    "\n",
    "print(\"10 & 20:\", (10 & 20)) # 1010 & 10100 = 00000 = 0\n",
    "print(\"10 | 20:\", (10 | 20)) # 1010 | 10100 = 11110 = 30\n",
    "print(\"10 ^ 20:\", (10 ^ 20)) # 1010 ^ 10100 = 11110 = 30\n",
    "print(\"~10:\", (~10)) # ~1010 = 111111110101 = (-11)\n",
    "print(\"10 << 2:\", (10 << 2)) # 1010 << 2 = 101000 = 40\n",
    "print(\"10 >> 2:\", (10 >> 2)) # 1010 >> 2 = 10 = 2\n"
   ]
  },
  {
   "cell_type": "code",
   "execution_count": 17,
   "id": "4624fbd9",
   "metadata": {
    "scrolled": true
   },
   "outputs": [
    {
     "name": "stdout",
     "output_type": "stream",
     "text": [
      "a is b: True\n",
      "a is not b: False\n",
      "a is b: False\n",
      "a is not b: True\n"
     ]
    }
   ],
   "source": [
    "a = 10\n",
    "b = 10\n",
    "print(\"a is b:\",a is b)\n",
    "print(\"a is not b:\",a is not b)\n",
    "\n",
    "a = 1000\n",
    "b = 1000\n",
    "print(\"a is b:\",a is b)\n",
    "print(\"a is not b:\",a is not b)"
   ]
  },
  {
   "cell_type": "code",
   "execution_count": 19,
   "id": "cf100f81",
   "metadata": {},
   "outputs": [
    {
     "name": "stdout",
     "output_type": "stream",
     "text": [
      "20\n"
     ]
    }
   ],
   "source": [
    "'''\n",
    "(-10) = 1111111110110 => 000000001001 = 9\n",
    "10+(10*32)//2**5&20+(~(-10))<<2\n",
    "10+320//(2**5)&20+9<<2 # brackets\n",
    "10+(320//32)&20+9<<2 # exponent\n",
    "(10+10)&(20+9)<<2 # //\n",
    "20&(29<<2) # << 64 32 16 8 4 2 1\n",
    "(20&116) # & (10100 & 1110100  = 10100)\n",
    "20\n",
    "'''\n",
    "print(10+(10*32)//2**5&20+(~(-10))<<2)"
   ]
  },
  {
   "cell_type": "code",
   "execution_count": 21,
   "id": "b944382b",
   "metadata": {},
   "outputs": [
    {
     "name": "stdout",
     "output_type": "stream",
     "text": [
      "True\n",
      "True\n",
      "True\n",
      "True\n",
      "True\n",
      "True\n"
     ]
    }
   ],
   "source": [
    "print('2' in 'Python2.7.8')\n",
    "print(10 in [10,10.20, 10+20j,'Python'])\n",
    "print(10 in (10,10.20, 10+20j,'Python'))\n",
    "print(2 in {1,2,3})\n",
    "print(3 in {1:100, 2:200, 3: 300})\n",
    "print(10 in range(20))"
   ]
  },
  {
   "cell_type": "code",
   "execution_count": 25,
   "id": "76907daf",
   "metadata": {},
   "outputs": [
    {
     "name": "stdout",
     "output_type": "stream",
     "text": [
      "10 10 10\n",
      "0b10011010010100\n",
      "0o23224\n",
      "0x2694\n"
     ]
    }
   ],
   "source": [
    "a = 0b1010\n",
    "b = 0o12\n",
    "c = 0xA\n",
    "print(a,b,c)\n",
    "\n",
    "x = 9876\n",
    "print(bin(x))\n",
    "print(oct(x))\n",
    "print(hex(x))"
   ]
  },
  {
   "cell_type": "code",
   "execution_count": 27,
   "id": "cb7482fd",
   "metadata": {},
   "outputs": [
    {
     "name": "stdout",
     "output_type": "stream",
     "text": [
      "80\n",
      "3870\n",
      "64222\n",
      "0b1010000\n",
      "0o7436\n",
      "0xfade\n",
      "0b1010000\n",
      "0b1111101011011110\n",
      "0o175336\n",
      "0o7436\n",
      "0x50\n",
      "0xfade\n"
     ]
    }
   ],
   "source": [
    "a = 0b1010000 # 64+16 = 80\n",
    "print(a)\n",
    "\n",
    "b = 0o7436 # 6 + 8*3+4*64+7*512 = 3870\n",
    "print(b)\n",
    "\n",
    "c = 0xfade # 14 + 16*13+265*10+16*256*15 = 64222\n",
    "print(c)\n",
    "\n",
    "print(bin(80)) #1010000\n",
    "\n",
    "print(oct(3870)) #7436\n",
    "\n",
    "print(hex(64222)) #fade\n",
    "\n",
    "print(bin(0b1010000)) # 1010000\n",
    "\n",
    "print(bin(0xfade)) # 1111101011011110\n",
    "\n",
    "print(oct(0xfade)) # 175336\n",
    "\n",
    "print(oct(0o7436)) #7436\n",
    "\n",
    "print(hex(0b1010000)) #80 => 50\n",
    "\n",
    "print(hex(0xfade)) #fade"
   ]
  }
 ],
 "metadata": {
  "kernelspec": {
   "display_name": "Python 3 (ipykernel)",
   "language": "python",
   "name": "python3"
  },
  "language_info": {
   "codemirror_mode": {
    "name": "ipython",
    "version": 3
   },
   "file_extension": ".py",
   "mimetype": "text/x-python",
   "name": "python",
   "nbconvert_exporter": "python",
   "pygments_lexer": "ipython3",
   "version": "3.9.12"
  }
 },
 "nbformat": 4,
 "nbformat_minor": 5
}
